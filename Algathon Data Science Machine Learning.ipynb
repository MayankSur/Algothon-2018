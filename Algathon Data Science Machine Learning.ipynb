{
 "cells": [
  {
   "cell_type": "code",
   "execution_count": null,
   "metadata": {},
   "outputs": [],
   "source": [
    "#Algathon 2018"
   ]
  },
  {
   "cell_type": "code",
   "execution_count": null,
   "metadata": {},
   "outputs": [],
   "source": [
    "print('Hello World!')"
   ]
  },
  {
   "cell_type": "code",
   "execution_count": 4,
   "metadata": {},
   "outputs": [],
   "source": [
    "#Graph file Function\n",
    "import pandas as pd \n",
    "#import matplotlib.pyplot as plt\n",
    "import numpy as np\n",
    "\n",
    "# filename = \"Dataset\\mystery_symbol_train\\mystery_symbol_train.csv\"\n",
    "# df = pd.read_csv(filename, nrows=10000000)\n",
    "\n",
    "\n",
    "# df.plot(x=\"time\", y=[\"bid\",\"ask\"])\n"
   ]
  },
  {
   "cell_type": "code",
   "execution_count": null,
   "metadata": {},
   "outputs": [],
   "source": [
    "#print file Function\n",
    "import pandas as pd \n",
    "#import matplotlib.pyplot as plt\n",
    "import numpy as np\n",
    "\n",
    "filename = \"Dataset\\mystery_symbol_train\\mystery_symbol_train.csv\"\n",
    "df = pd.read_csv(filename, nrows=100000)\n",
    "\n",
    "df.head()\n"
   ]
  },
  {
   "cell_type": "code",
   "execution_count": null,
   "metadata": {},
   "outputs": [],
   "source": [
    "#opening a PKL file and split into each independent row\n",
    "\n",
    "import pickle\n",
    "\n",
    "with open('Dataset/reuters/20171231.pkl', 'rb') as f:\n",
    "    data = pickle.load(f)\n",
    "    for x in data:\n",
    "      print(x)"
   ]
  },
  {
   "cell_type": "code",
   "execution_count": null,
   "metadata": {},
   "outputs": [],
   "source": [
    "## Extraction Complete\n",
    "\n",
    "import pandas as pd\n",
    "import pickle\n",
    "\n",
    "times = []\n",
    "date = []\n",
    "time = []\n",
    "titles = []\n",
    "\n",
    "\n",
    "\n",
    "df=pd.read_pickle(filename)\n",
    "for t in df:\n",
    "        y = t.get('ts')\n",
    "        y1 = y.replace('UTC','')\n",
    "        date1 = y1[0:7]\n",
    "        time1 = y1[9:-1]\n",
    "        m2 = time1\n",
    "        m2 = datetime.strptime(m2, '%I:%M%p')\n",
    "        m3 = str(m2)\n",
    "        m4=m3.split(\" \")\n",
    "        time.append (m4[1])\n",
    "        date.append (date1)\n",
    "        times.append (t.get('ts'))\n",
    "        titles.append (t.get(\"title\"))\n",
    "print(titles[5])\n",
    "print(date[5])\n",
    "print(time[5])\n",
    "\n",
    "df=pd.DataFrame({\"date\" : date[0:-1], \"time\" : time[0:-1], \"title\" : titles[0:-1]})\n",
    "df.to_csv(\"output1.csv\")\n",
    "\n"
   ]
  },
  {
   "cell_type": "code",
   "execution_count": null,
   "metadata": {},
   "outputs": [],
   "source": [
    "from datetime import *\n",
    "m2 = '1:35PM'\n",
    "m2 = datetime.strptime(m2, '%I:%M%p')\n",
    "m3 = str(m2)\n",
    "m4=m3.split(\" \")\n",
    "\n",
    "print(m4[1])\n"
   ]
  },
  {
   "cell_type": "code",
   "execution_count": null,
   "metadata": {},
   "outputs": [],
   "source": [
    "import pandas as pd\n",
    "df= pd.read_pickle('Dataset/reuters/20171231.pkl')\n",
    "\n",
    "print (type(df))"
   ]
  },
  {
   "cell_type": "code",
   "execution_count": null,
   "metadata": {},
   "outputs": [
    {
     "name": "stdout",
     "output_type": "stream",
     "text": [
      "Dataset/reuters/20140101.pkl\n",
      "Dataset/reuters/20140102.pkl\n",
      "Dataset/reuters/20140103.pkl\n"
     ]
    }
   ],
   "source": [
    "import os\n",
    "#Graph file Function\n",
    "import pandas as pd \n",
    "#import matplotlib.pyplot as plt\n",
    "import numpy as np\n",
    "from datetime import *\n",
    "\n",
    "frame = pd.DataFrame()\n",
    "for filename in os.listdir('Dataset/reuters/'):\n",
    "    Filename = \"Dataset/reuters/\" + filename\n",
    "    print(Filename)\n",
    "    df= pd.read_pickle(Filename)\n",
    "    times = []\n",
    "    date = []\n",
    "    time = []\n",
    "    titles = []\n",
    "\n",
    "    for t in df:\n",
    "        y = t.get('ts')\n",
    "        y1 = y.replace('UTC','')\n",
    "        date1 = y1[0:7]\n",
    "        time1 = y1[9:-1]\n",
    "        m2 = time1\n",
    "        m2 = datetime.strptime(m2, '%I:%M%p')\n",
    "        m3 = str(m2)\n",
    "        m4=m3.split(\" \")\n",
    "        time.append (m4[1])\n",
    "        date.append (date1)\n",
    "        times.append (t.get('ts'))\n",
    "        titles.append (t.get(\"title\"))\n",
    "\n",
    "        \n",
    "        dt=pd.DataFrame({\"date\" : date[0:-1], \"time\" : time[0:-1], \"title\" : titles[0:-1]})\n",
    "        frame = frame.append(dt)\n",
    "\n",
    " \n",
    " "
   ]
  },
  {
   "cell_type": "code",
   "execution_count": null,
   "metadata": {},
   "outputs": [],
   "source": []
  }
 ],
 "metadata": {
  "kernelspec": {
   "display_name": "Python 3",
   "language": "python",
   "name": "python3"
  },
  "language_info": {
   "codemirror_mode": {
    "name": "ipython",
    "version": 3
   },
   "file_extension": ".py",
   "mimetype": "text/x-python",
   "name": "python",
   "nbconvert_exporter": "python",
   "pygments_lexer": "ipython3",
   "version": "3.6.5"
  }
 },
 "nbformat": 4,
 "nbformat_minor": 2
}
