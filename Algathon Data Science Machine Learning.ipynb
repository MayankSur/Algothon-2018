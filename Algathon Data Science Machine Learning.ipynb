{
 "cells": [
  {
   "cell_type": "code",
   "execution_count": 1,
   "metadata": {},
   "outputs": [],
   "source": [
    "#Algathon 2018"
   ]
  },
  {
   "cell_type": "code",
   "execution_count": 1,
   "metadata": {},
   "outputs": [
    {
     "name": "stdout",
     "output_type": "stream",
     "text": [
      "Hello World!\n"
     ]
    }
   ],
   "source": [
    "print('Hello World!')"
   ]
  },
  {
   "cell_type": "code",
   "execution_count": 8,
   "metadata": {},
   "outputs": [
    {
     "data": {
      "text/plain": [
       "<matplotlib.axes._subplots.AxesSubplot at 0x1f53acaa8d0>"
      ]
     },
     "execution_count": 8,
     "metadata": {},
     "output_type": "execute_result"
    },
    {
     "data": {
      "image/png": "[encoded data removed]",
      "text/plain": [
       "<Figure size 432x288 with 1 Axes>"
      ]
     },
     "metadata": {},
     "output_type": "display_data"
    }
   ],
   "source": [
    "#Graph file Function\n",
    "import pandas as pd \n",
    "#import matplotlib.pyplot as plt\n",
    "import numpy as np\n",
    "\n",
    "filename = \"Dataset\\mystery_symbol_train\\mystery_symbol_train.csv\"\n",
    "df = pd.read_csv(filename, nrows=10000000)\n",
    "\n",
    "\n",
    "df.plot(x=\"time\", y=[\"bid\",\"ask\"])\n"
   ]
  },
  {
   "cell_type": "code",
   "execution_count": 1,
   "metadata": {},
   "outputs": [
    {
     "data": {
      "text/html": [
       "<div>\n",
       "<style scoped>\n",
       "    .dataframe tbody tr th:only-of-type {\n",
       "        vertical-align: middle;\n",
       "    }\n",
       "\n",
       "    .dataframe tbody tr th {\n",
       "        vertical-align: top;\n",
       "    }\n",
       "\n",
       "    .dataframe thead th {\n",
       "        text-align: right;\n",
       "    }\n",
       "</style>\n",
       "<table border=\"1\" class=\"dataframe\">\n",
       "  <thead>\n",
       "    <tr style=\"text-align: right;\">\n",
       "      <th></th>\n",
       "      <th>time</th>\n",
       "      <th>bid</th>\n",
       "      <th>ask</th>\n",
       "    </tr>\n",
       "  </thead>\n",
       "  <tbody>\n",
       "    <tr>\n",
       "      <th>0</th>\n",
       "      <td>2014-01-01 21:55:35.346</td>\n",
       "      <td>2.100764</td>\n",
       "      <td>2.105941</td>\n",
       "    </tr>\n",
       "    <tr>\n",
       "      <th>1</th>\n",
       "      <td>2014-01-01 21:55:35.348</td>\n",
       "      <td>2.101712</td>\n",
       "      <td>2.105454</td>\n",
       "    </tr>\n",
       "    <tr>\n",
       "      <th>2</th>\n",
       "      <td>2014-01-01 21:55:36.114</td>\n",
       "      <td>2.101728</td>\n",
       "      <td>2.105468</td>\n",
       "    </tr>\n",
       "    <tr>\n",
       "      <th>3</th>\n",
       "      <td>2014-01-01 21:55:37.417</td>\n",
       "      <td>2.101712</td>\n",
       "      <td>2.105454</td>\n",
       "    </tr>\n",
       "    <tr>\n",
       "      <th>4</th>\n",
       "      <td>2014-01-01 21:55:38.613</td>\n",
       "      <td>2.101731</td>\n",
       "      <td>2.105476</td>\n",
       "    </tr>\n",
       "  </tbody>\n",
       "</table>\n",
       "</div>"
      ],
      "text/plain": [
       "                      time       bid       ask\n",
       "0  2014-01-01 21:55:35.346  2.100764  2.105941\n",
       "1  2014-01-01 21:55:35.348  2.101712  2.105454\n",
       "2  2014-01-01 21:55:36.114  2.101728  2.105468\n",
       "3  2014-01-01 21:55:37.417  2.101712  2.105454\n",
       "4  2014-01-01 21:55:38.613  2.101731  2.105476"
      ]
     },
     "execution_count": 1,
     "metadata": {},
     "output_type": "execute_result"
    }
   ],
   "source": [
    "#print file Function\n",
    "import pandas as pd \n",
    "#import matplotlib.pyplot as plt\n",
    "import numpy as np\n",
    "\n",
    "filename = \"Dataset\\mystery_symbol_train\\mystery_symbol_train.csv\"\n",
    "df = pd.read_csv(filename, nrows=100000)\n",
    "\n",
    "df.head()\n"
   ]
  },
  {
   "cell_type": "code",
   "execution_count": 22,
   "metadata": {},
   "outputs": [
    {
     "name": "stdout",
     "output_type": "stream",
     "text": [
      "{'ts': '20171231\\xa011:52PM UTC', 'title': 'Cal takes care of Stanford', 'href': 'http://www.reuters.com/article/basketball-ncaa-stanford-california-writ/cal-takes-care-of-stanford-idUSMTZEDCVT96U52'}\n",
      "{'ts': '20171231\\xa011:48PM UTC', 'title': 'Curry lights up Grizzlies for 38 in splashy return', 'href': 'http://www.reuters.com/article/basketball-nba-gsw-mem-writethru/curry-lights-up-grizzlies-for-38-in-splashy-return-idUSMTZEDCVT90P51'}\n",
      "{'ts': '20171231\\xa011:44PM UTC', 'title': 'Penn State, Barkley bowl over Washington in Fiesta', 'href': 'http://www.reuters.com/article/football-ncaa-penner-state-washington-wr/penn-state-barkley-bowl-over-washington-in-fiesta-idUSMTZEDCVSW7KJK'}\n",
      "{'ts': '20171231\\xa011:28PM UTC', 'title': \"Upshall's goal lifts Blues past Hurricanes\", 'href': 'http://www.reuters.com/article/icehockey-nhl-stl-car-writethru/upshalls-goal-lifts-blues-past-hurricanes-idUSMTZEDCVT4G30C'}\n",
      "{'ts': '20171231\\xa011:25PM UTC', 'title': 'MIDEAST - Factors to watch - December 31', 'href': 'http://www.reuters.com/article/mideast-factors/mideast-factors-to-watch-december-31-idUSL8N1OV00Z'}\n",
      "{'ts': '20171231\\xa011:17PM UTC', 'title': 'No. 14 Purdue routs Lipscomb, runs win streak to 9', 'href': 'http://www.reuters.com/article/basketball-ncaa-purdue-lipscomb-writethr/no-14-purdue-routs-lipscomb-runs-win-streak-to-9-idUSMTZEDCVT3RAYU'}\n",
      "{'ts': '20171231\\xa011:08PM UTC', 'title': 'No. 20 Gonzaga routs Santa Clara', 'href': 'http://www.reuters.com/article/basketball-ncaa-gonzaga-santaer-clara-wr/no-20-gonzaga-routs-santa-clara-idUSMTZEDCVT06YRN'}\n",
      "{'ts': '20171231\\xa011:04PM UTC', 'title': 'Predators blank Wild, take first in Central', 'href': 'http://www.reuters.com/article/icehockey-nhl-nsh-min-writethru/predators-blank-wild-take-first-in-central-idUSMTZEDCVT42SZI'}\n",
      "{'ts': '20171231\\xa010:56PM UTC', 'title': 'Probe into deadly fire at U.S. firm’s Philippines offices focuses on possible safety lapses', 'href': 'http://www.reuters.com/article/us-philippines-fire-insight/probe-into-deadly-fire-at-u-s-firms-philippines-offices-focuses-on-possible-safety-lapses-idUSKBN1EP02N'}\n",
      "{'ts': '20171231\\xa010:54PM UTC', 'title': \"Schroder hits right keys in Hawks' win over Blazers\", 'href': 'http://www.reuters.com/article/basketball-nba-atl-por-writethru/schroder-hits-right-keys-in-hawks-win-over-blazers-idUSMTZEDCVT2OSX9'}\n",
      "{'ts': '20171231\\xa010:41PM UTC', 'title': 'INSIGHT-Probe into deadly fire at US firm’s Philippines offices focuses on possible safety lapses', 'href': 'http://www.reuters.com/article/philippines-fire/insight-probe-into-deadly-fire-at-us-firms-philippines-offices-focuses-on-possible-safety-lapses-idUSL4N1OT2OP'}\n",
      "{'ts': '20171231\\xa010:38PM UTC', 'title': 'Bruins mop up against Senators', 'href': 'http://www.reuters.com/article/icehockey-nhl-ott-bos-writethru/bruins-mop-up-against-senators-idUSMTZEDCVT21GVV'}\n",
      "{'ts': '20171231\\xa010:32PM UTC', 'title': 'Capitals dominate Devils, vault to top of Metropolitan', 'href': 'http://www.reuters.com/article/icehockey-nhl-wsh-njd-writethru/capitals-dominate-devils-vault-to-top-of-metropolitan-idUSMTZEDCVT1KXUT'}\n",
      "{'ts': '20171231\\xa010:29PM UTC', 'title': 'Knicks rally for road win over Pelicans', 'href': 'http://www.reuters.com/article/basketball-nba-nop-nyk-writethru/knicks-rally-for-road-win-over-pelicans-idUSMTZEDCVT1CUUH'}\n",
      "{'ts': '20171231\\xa010:26PM UTC', 'title': 'Reimer blanks Canadiens; Panthers win fifth straight', 'href': 'http://www.reuters.com/article/icehockey-nhl-fla-mtl-writethru/reimer-blanks-canadiens-panthers-win-fifth-straight-idUSMTZEDCVT284WA'}\n",
      "{'ts': '20171231\\xa010:22PM UTC', 'title': 'Johnson, Dragic spark Heat to comeback win vs. Magic', 'href': 'http://www.reuters.com/article/basketball-nba-orl-mia-writethru/johnson-dragic-spark-heat-to-comeback-win-vs-magic-idUSMTZEDCVT1JGUR'}\n",
      "{'ts': '20171231\\xa010:00PM UTC', 'title': 'China December factory growth eases as tough pollution measures bite', 'href': 'http://www.reuters.com/article/us-china-economy-pmi-factory-official/china-december-factory-growth-eases-as-tough-pollution-measures-bite-idUSKBN1EP009'}\n",
      "{'ts': '20171231\\xa09:35PM UTC', 'title': 'Bullock shines as Pistons topple Spurs', 'href': 'http://www.reuters.com/article/basketball-nba-det-sas-writethru/bullock-shines-as-pistons-topple-spurs-idUSMTZEDCVT021RD'}\n",
      "{'ts': '20171231\\xa09:09PM UTC', 'title': 'New year could bring record low temperatures to U.S. Midwest, East Coast', 'href': 'http://www.reuters.com/article/us-usa-weather/new-year-could-bring-record-low-temperatures-to-u-s-midwest-east-coast-idUSKBN1EO0LW'}\n",
      "{'ts': '20171231\\xa08:35PM UTC', 'title': 'National Football League roundup', 'href': 'http://www.reuters.com/article/us-football-nfl-roundup/national-football-league-roundup-idUSKBN1EP00P'}\n",
      "{'ts': '20171231\\xa07:55PM UTC', 'title': 'RPT-China Dec official factory PMI dips to 51.6, hits forecasts', 'href': 'http://www.reuters.com/article/china-economy-pmi-factory-official/rpt-china-dec-official-factory-pmi-dips-to-51-6-hits-forecasts-idUSB9N1OJ017'}\n",
      "{'ts': '20171231\\xa07:55PM UTC', 'title': 'RPT-China Dec official factory PMI dips to 51.6, hits forecasts', 'href': 'http://www.reuters.com/article/china-economy-pmi-factory-official/rpt-china-dec-official-factory-pmi-dips-to-51-6-hits-forecasts-idUSL4N1OV00M'}\n",
      "{'ts': '20171231\\xa07:54PM UTC', 'title': 'China Dec official factory PMI dips to 51.6, hits forecasts', 'href': 'http://www.reuters.com/article/china-economy-pmi-factory-official/china-dec-official-factory-pmi-dips-to-51-6-hits-forecasts-idUSZZN3D7100'}\n",
      "{'ts': '20171231\\xa07:52PM UTC', 'title': 'China December official services PMI edges up to 55', 'href': 'http://www.reuters.com/article/us-china-economy-pmi-services-official/china-december-official-services-pmi-edges-up-to-55-idUSKBN1EP007'}\n",
      "{'ts': '20171231\\xa07:50PM UTC', 'title': 'China December official services PMI edges up to 55', 'href': 'http://www.reuters.com/article/china-economy-pmi-services-official/china-december-official-services-pmi-edges-up-to-55-idUSENNHCP0RU'}\n",
      "{'ts': '20171231\\xa07:10PM UTC', 'title': 'Butler stuns No. 1 Villanova', 'href': 'http://www.reuters.com/article/basketball-ncaa-butler-villanova-writeth/butler-stuns-no-1-villanova-idUSMTZEDCUSSES5M'}\n",
      "{'ts': '20171231\\xa06:46PM UTC', 'title': 'Illinois squeaks by Grand Canyon', 'href': 'http://www.reuters.com/article/basketball-ncaa-illinois-grander-canyon/illinois-squeaks-by-grand-canyon-idUSMTZEDCVSV0SID'}\n",
      "{'ts': '20171231\\xa06:40PM UTC', 'title': 'Wisconsin routs UMass-Lowell', 'href': 'http://www.reuters.com/article/basketball-ncaa-wisconsin-massachusettse/wisconsin-routs-umass-lowell-idUSMTZEDCUSRXJ4Y'}\n",
      "{'ts': '20171231\\xa06:21PM UTC', 'title': 'Mississippi State pulls away in second half', 'href': 'http://www.reuters.com/article/basketball-ncaa-mississippier-st-norther/mississippi-state-pulls-away-in-second-half-idUSMTZEDCVSTUYGW'}\n",
      "{'ts': '20171231\\xa06:20PM UTC', 'title': 'Ten people die after car crash in southwest Mexico', 'href': 'http://www.reuters.com/article/us-mexico-crash/ten-people-die-after-car-crash-in-southwest-mexico-idUSKBN1EO0L7'}\n",
      "{'ts': '20171231\\xa06:13PM UTC', 'title': 'UPDATE 1-Ten people die after car crash in southwest Mexico', 'href': 'http://www.reuters.com/article/mexico-crash/update-1-ten-people-die-after-car-crash-in-southwest-mexico-idUSL1N1OU0HU'}\n",
      "{'ts': '20171231\\xa06:09PM UTC', 'title': 'Rowsey carries Marquette past Georgetown', 'href': 'http://www.reuters.com/article/basketball-ncaa-marquette-georgetown-wri/rowsey-carries-marquette-past-georgetown-idUSMTZEDCUSTAN6K'}\n",
      "{'ts': '20171231\\xa06:05PM UTC', 'title': 'Arkansas storms back to beat Tennessee in OT', 'href': 'http://www.reuters.com/article/basketball-ncaa-arkansas-tennessee-write/arkansas-storms-back-to-beat-tennessee-in-ot-idUSMTZEDCUSMOFWS'}\n",
      "{'ts': '20171231\\xa05:53PM UTC', 'title': 'Young torches TCU, Sooners win 9th straight', 'href': 'http://www.reuters.com/article/basketball-ncaa-texaser-christian-oklaho/young-torches-tcu-sooners-win-9th-straight-idUSMTZEDCUSO9101'}\n",
      "{'ts': '20171231\\xa05:47PM UTC', 'title': 'Florida holds off Vandy in SEC opener', 'href': 'http://www.reuters.com/article/basketball-ncaa-florida-vanderbilt-write/florida-holds-off-vandy-in-sec-opener-idUSMTZEDCUSSAP5L'}\n",
      "{'ts': '20171231\\xa05:41PM UTC', 'title': 'Reed paces balanced Clemson attack in win over N.C. State', 'href': 'http://www.reuters.com/article/basketball-ncaa-clemson-norther-carolina/reed-paces-balanced-clemson-attack-in-win-over-n-c-state-idUSMTZEDCUSS0853'}\n",
      "{'ts': '20171231\\xa05:32PM UTC', 'title': 'Repairs begin on Libyan oil pipeline damaged by blast', 'href': 'http://www.reuters.com/article/libya-oil/repairs-begin-on-libyan-oil-pipeline-damaged-by-blast-idUSL8N1OU0GA'}\n",
      "{'ts': '20171231\\xa05:25PM UTC', 'title': 'Bagley III, Duval lift No. 4 Duke over No. 24 FSU', 'href': 'http://www.reuters.com/article/basketball-ncaa-duke-floridaer-st-writet/bagley-iii-duval-lift-no-4-duke-over-no-24-fsu-idUSMTZEDCUSR933E'}\n",
      "{'ts': '20171231\\xa05:22PM UTC', 'title': \"Cyclones' defense preserves Liberty Bowl victory vs. Memphis\", 'href': 'http://www.reuters.com/article/football-ncaa-memphis-iowaer-state-write/cyclones-defense-preserves-liberty-bowl-victory-vs-memphis-idUSMTZEDCUSM9AVD'}\n",
      "{'ts': '20171231\\xa05:21PM UTC', 'title': \"Louisville's Jackson sets record, but Bulldogs winTaxslayer Bowl\", 'href': 'http://www.reuters.com/article/football-ncaa-mississippier-state-louisv/louisvilles-jackson-sets-record-but-bulldogs-wintaxslayer-bowl-idUSMTZEDCUSR3A33'}\n",
      "{'ts': '20171231\\xa05:16PM UTC', 'title': 'Macura, Bluiett help No. 6 Xavier hold off DePaul', 'href': 'http://www.reuters.com/article/basketball-ncaa-xavier-depaul-writethru/macura-bluiett-help-no-6-xavier-hold-off-depaul-idUSMTZEDCUSNIGYA'}\n",
      "{'ts': '20171231\\xa05:02PM UTC', 'title': 'Brown helps Auburn rout Cornell', 'href': 'http://www.reuters.com/article/basketball-ncaa-auburn-cornell-writethru/brown-helps-auburn-rout-cornell-idUSMTZEDCUSQ7I2R'}\n",
      "{'ts': '20171231\\xa04:50PM UTC', 'title': 'Jerome, No. 9 Virginia hang on to beat Boston College', 'href': 'http://www.reuters.com/article/basketball-ncaa-virginia-bostoner-colleg/jerome-no-9-virginia-hang-on-to-beat-boston-college-idUSMTZEDCUSLSPUL'}\n",
      "{'ts': '20171231\\xa04:37PM UTC', 'title': 'FBI Russia probe helped by Australian diplomat tip-off: NYT', 'href': 'http://www.reuters.com/article/us-usa-trump-russia-papadopoulos/fbi-russia-probe-helped-by-australian-diplomat-tip-off-nyt-idUSKBN1EO0K8'}\n",
      "{'ts': '20171231\\xa04:37PM UTC', 'title': 'Congo orders internet and SMS cut ahead of anti-government demonstrations', 'href': 'http://www.reuters.com/article/us-congo-protests/congo-orders-internet-and-sms-cut-ahead-of-anti-government-demonstrations-idUSKBN1EO0KV'}\n",
      "{'ts': '20171231\\xa04:28PM UTC', 'title': \"Colson's monster game helps Notre Dame top Georgia Tech\", 'href': 'http://www.reuters.com/article/basketball-ncaa-notreer-dame-georgiaer-t/colsons-monster-game-helps-notre-dame-top-georgia-tech-idUSMTZEDCUSN01X6'}\n",
      "{'ts': '20171231\\xa04:15PM UTC', 'title': 'UPDATE 2-Congo orders internet and SMS cut ahead of anti-govt demonstrations', 'href': 'http://www.reuters.com/article/congo-protests/update-2-congo-orders-internet-and-sms-cut-ahead-of-anti-govt-demonstrations-idUSL8N1OU0ET'}\n",
      "{'ts': '20171231\\xa04:07PM UTC', 'title': 'UPDATE 3-Ukraine hostages freed after police storm post office', 'href': 'http://www.reuters.com/article/ukraine-security/update-3-ukraine-hostages-freed-after-police-storm-post-office-idUSL8N1OU07T'}\n",
      "{'ts': '20171231\\xa03:57PM UTC', 'title': \"Murphy's double-double pushes Minnesota past Harvard\", 'href': 'http://www.reuters.com/article/basketball-ncaa-minnesota-harvard-writet/murphys-double-double-pushes-minnesota-past-harvard-idUSMTZEDCUSN6OY3'}\n",
      "{'ts': '20171231\\xa03:35PM UTC', 'title': 'Western Canada ice storms cause power outages during bitter cold spell', 'href': 'http://www.reuters.com/article/us-canada-weather/western-canada-ice-storms-cause-power-outages-during-bitter-cold-spell-idUSKBN1EO0KR'}\n",
      "{'ts': '20171231\\xa03:33PM UTC', 'title': 'Schaeuble does not rule out minority government for Germany', 'href': 'http://www.reuters.com/article/us-germany-politics/schaeuble-does-not-rule-out-minority-government-for-germany-idUSKBN1EO0D7'}\n",
      "{'ts': '20171231\\xa03:33PM UTC', 'title': 'FDP leader wants Germany to deport minor refugees linked to crime', 'href': 'http://www.reuters.com/article/us-germany-politics-migrants/fdp-leader-wants-germany-to-deport-minor-refugees-linked-to-crime-idUSKBN1EO0KI'}\n",
      "{'ts': '20171231\\xa03:31PM UTC', 'title': 'Congo orders internet and SMS cut ahead of anti-govt demonstrations', 'href': 'http://www.reuters.com/article/congo-protests/congo-orders-internet-and-sms-cut-ahead-of-anti-govt-demonstrations-idUSL8N1OU0EM'}\n",
      "{'ts': '20171231\\xa03:31PM UTC', 'title': \"Turkey's Erdogan to discuss Syria with Macron in Paris - source\", 'href': 'http://www.reuters.com/article/us-mideast-crisis-france-turkey/turkeys-erdogan-to-discuss-syria-with-macron-in-paris-source-idUSKBN1EO0KG'}\n",
      "{'ts': '20171231\\xa03:29PM UTC', 'title': 'Police shoot dead two protesters in western Iran: social media video', 'href': 'http://www.reuters.com/article/us-iran-rallies-casualties/police-shoot-dead-two-protesters-in-western-iran-social-media-video-idUSKBN1EO0KE'}\n",
      "{'ts': '20171231\\xa03:27PM UTC', 'title': 'Christians in shock after deadly attack on Coptic Church in Egypt', 'href': 'http://www.reuters.com/article/us-egypt-security-church/christians-in-shock-after-deadly-attack-on-coptic-church-in-egypt-idUSKBN1EO0KC'}\n",
      "{'ts': '20171231\\xa03:19PM UTC', 'title': \"Jay-Z 'confesses' to Beyonce in 'Family Feud' music video\", 'href': 'http://www.reuters.com/article/us-music-jay-z/jay-z-confesses-to-beyonce-in-family-feud-music-video-idUSKBN1EO003'}\n",
      "{'ts': '20171231\\xa03:19PM UTC', 'title': 'Late spurt leads No. 8 Wichita State past Connecticut', 'href': 'http://www.reuters.com/article/basketball-ncaa-connecticut-wichitaer-st/late-spurt-leads-no-8-wichita-state-past-connecticut-idUSMTZEDCUSHTCR0'}\n",
      "{'ts': '20171231\\xa03:19PM UTC', 'title': 'Former Catalan leader urges Spain to accept secessionist election win', 'href': 'http://www.reuters.com/article/us-spain-politics-catalonia/former-catalan-leader-urges-spain-to-accept-secessionist-election-win-idUSKBN1EO0K6'}\n",
      "{'ts': '20171231\\xa03:17PM UTC', 'title': 'Sharp Federer gives Switzerland winning start at Hopman Cup', 'href': 'http://www.reuters.com/article/us-tennis-hopman/sharp-federer-gives-switzerland-winning-start-at-hopman-cup-idUSKBN1EO0BE'}\n",
      "{'ts': '20171231\\xa03:12PM UTC', 'title': 'Arise Sir Ringo: Beatles drummer knighted in UK honors list', 'href': 'http://www.reuters.com/article/us-britain-honours/arise-sir-ringo-beatles-drummer-knighted-in-uk-honors-list-idUSKBN1EN1S3'}\n",
      "{'ts': '20171231\\xa03:09PM UTC', 'title': 'Greek government applies for cancellation of asylum granted to Turkish soldier', 'href': 'http://www.reuters.com/article/us-turkey-security-greece/greek-government-applies-for-cancellation-of-asylum-granted-to-turkish-soldier-idUSKBN1EO0H6'}\n",
      "{'ts': '20171231\\xa03:09PM UTC', 'title': \"President-elect Weah says Liberia 'open for business', vows to fight corruption\", 'href': 'http://www.reuters.com/article/us-liberia-election/president-elect-weah-says-liberia-open-for-business-vows-to-fight-corruption-idUSKBN1EO0I5'}\n",
      "{'ts': '20171231\\xa03:06PM UTC', 'title': 'Blaze in Manchester apartment block brought under control', 'href': 'http://www.reuters.com/article/us-britain-fire-manchester/blaze-in-manchester-apartment-block-brought-under-control-idUSKBN1EO0G7'}\n",
      "{'ts': '20171231\\xa03:04PM UTC', 'title': 'Erica Garner, activist daughter of New York chokehold victim, dies at 27', 'href': 'http://www.reuters.com/article/us-people-erica-garner/erica-garner-activist-daughter-of-new-york-chokehold-victim-dies-at-27-idUSKBN1EO0JG'}\n",
      "{'ts': '20171231\\xa02:47PM UTC', 'title': 'California suspect held in hoax that led to police killing Kansas man', 'href': 'http://www.reuters.com/article/us-kansas-swatting/california-suspect-held-in-hoax-that-led-to-police-killing-kansas-man-idUSKBN1EO069'}\n",
      "{'ts': '20171231\\xa02:43PM UTC', 'title': \"Special Report: Meet the force behind Zimbabwe's 'Crocodile' president\", 'href': 'http://www.reuters.com/article/us-zimbabwe-mnangagwa-generals-specialre/special-report-meet-the-force-behind-zimbabwes-crocodile-president-idUSKBN1EO06J'}\n",
      "{'ts': '20171231\\xa02:29PM UTC', 'title': 'Penn State crushes winless Coppin State', 'href': 'http://www.reuters.com/article/basketball-ncaa-penner-st-coppiner-st-wr/penn-state-crushes-winless-coppin-state-idUSMTZEDCUSJ48ST'}\n",
      "{'ts': '20171231\\xa02:21PM UTC', 'title': 'Ski jumping: Stoch defies wind and rain to win opening Four Hills event', 'href': 'http://www.reuters.com/article/us-ski-jumping-4hill/ski-jumping-stoch-defies-wind-and-rain-to-win-opening-four-hills-event-idUSKBN1EO0JS'}\n",
      "{'ts': '20171231\\xa02:18PM UTC', 'title': 'Greek government appeals against committee decision to grant Turkish soldier asylum', 'href': 'http://www.reuters.com/article/us-turkey-security-greece-appeal/greek-government-appeals-against-committee-decision-to-grant-turkish-soldier-asylum-idUSKBN1EO0JP'}\n",
      "{'ts': '20171231\\xa02:18PM UTC', 'title': \"Berry II's floater helps No. 13 North Carolina edge Wake Forest\", 'href': 'http://www.reuters.com/article/basketball-ncaa-norther-carolina-wakeer/berry-iis-floater-helps-no-13-north-carolina-edge-wake-forest-idUSMTZEDCUSGW4OY'}\n",
      "{'ts': '20171231\\xa02:17PM UTC', 'title': 'At least two protesters shot in western Iran: social media', 'href': 'http://www.reuters.com/article/us-iran-rallies-shooting/at-least-two-protesters-shot-in-western-iran-social-media-idUSKBN1EO0JN'}\n",
      "{'ts': '20171231\\xa01:54PM UTC', 'title': 'Northwestern rallies, blows out Brown', 'href': 'http://www.reuters.com/article/basketball-ncaa-northwestern-brown-write/northwestern-rallies-blows-out-brown-idUSMTZEDCUSGYAP6'}\n",
      "{'ts': '20171231\\xa01:53PM UTC', 'title': 'Ski jumping-Stoch defies wind and rain to win opening Four Hills event', 'href': 'http://www.reuters.com/article/ski-jumping-4hill/ski-jumping-stoch-defies-wind-and-rain-to-win-opening-four-hills-event-idUSL4N1OU05Y'}\n",
      "{'ts': '20171231\\xa01:52PM UTC', 'title': \"Mali's Keita names ex-defense and foreign minister as PM\", 'href': 'http://www.reuters.com/article/us-mali-politics/malis-keita-names-ex-defense-and-foreign-minister-as-pm-idUSKBN1EO0IR'}\n",
      "{'ts': '20171231\\xa01:25PM UTC', 'title': \"Numbing cold wave grips U.S., heralding a frigid New Year's Eve\", 'href': 'http://www.reuters.com/article/us-usa-weather/numbing-cold-wave-grips-u-s-heralding-a-frigid-new-years-eve-idUSKBN1EN1M5'}\n",
      "{'ts': '20171231\\xa01:03PM UTC', 'title': 'President-elect Weah says Liberia \"open for business\", vows to fight corruption', 'href': 'http://www.reuters.com/article/liberia-election/president-elect-weah-says-liberia-open-for-business-vows-to-fight-corruption-idUSL8N1OU0BE'}\n",
      "{'ts': '20171231\\xa012:57PM UTC', 'title': \"India's censors clear Bollywood movie, objectors say protests to continue\", 'href': 'http://www.reuters.com/article/us-india-movie/indias-censors-clear-bollywood-movie-objectors-say-protests-to-continue-idUSKBN1EO0H8'}\n",
      "{'ts': '20171231\\xa012:52PM UTC', 'title': 'Egypt security forces kill three suspected militants, arrest 10 others', 'href': 'http://www.reuters.com/article/us-egypt-security/egypt-security-forces-kill-three-suspected-militants-arrest-10-others-idUSKBN1EO0GZ'}\n",
      "{'ts': '20171231\\xa012:44PM UTC', 'title': \"India's censors clear Bollywood movie, objectors say protests to continue\", 'href': 'http://www.reuters.com/article/india-movie/indias-censors-clear-bollywood-movie-objectors-say-protests-to-continue-idUSL4N1OU04R'}\n",
      "{'ts': '20171231\\xa012:36PM UTC', 'title': 'Injured Djokovic pulls out of Qatar Open', 'href': 'http://www.reuters.com/article/us-tennis-men-djokovic/injured-djokovic-pulls-out-of-qatar-open-idUSKBN1EO08Y'}\n",
      "{'ts': '20171231\\xa012:35PM UTC', 'title': \"Raid on senator's home reveals divisions in Somali security forces\", 'href': 'http://www.reuters.com/article/us-somalia-security/raid-on-senators-home-reveals-divisions-in-somali-security-forces-idUSKBN1EO0G5'}\n",
      "{'ts': '20171231\\xa012:32PM UTC', 'title': 'Egypt court sentences activist to two years over Red Sea islands protest', 'href': 'http://www.reuters.com/article/us-egypt-court-activist/egypt-court-sentences-activist-to-two-years-over-red-sea-islands-protest-idUSKBN1EO0FQ'}\n",
      "{'ts': '20171231\\xa012:29PM UTC', 'title': 'As Peru president faced impeachment, jailed Fujimori worked to save both', 'href': 'http://www.reuters.com/article/us-peru-fujimori/as-peru-president-faced-impeachment-jailed-fujimori-worked-to-save-both-idUSKBN1EO0FS'}\n",
      "{'ts': '20171231\\xa010:58AM UTC', 'title': 'Russia says it has detained a suspect in St. Petersburg supermarket blast', 'href': 'http://www.reuters.com/article/us-russia-blast-fsb/russia-says-it-has-detained-a-suspect-in-st-petersburg-supermarket-blast-idUSKBN1EO0DO'}\n",
      "{'ts': '20171231\\xa010:34AM UTC', 'title': 'Ten prisoners in eastern Turkey on hunger strike, health worsening: lawyers', 'href': 'http://www.reuters.com/article/us-turkey-prison-hungerstrike/ten-prisoners-in-eastern-turkey-on-hunger-strike-health-worsening-lawyers-idUSKBN1EO0DX'}\n",
      "{'ts': '20171231\\xa010:29AM UTC', 'title': 'Serena says good to be back, despite loss to Ostapenko in Abu Dhabi', 'href': 'http://www.reuters.com/article/us-tennis-serena/serena-says-good-to-be-back-despite-loss-to-ostapenko-in-abu-dhabi-idUSKBN1EO0DT'}\n",
      "{'ts': '20171231\\xa08:16AM UTC', 'title': 'Infineon not vulnerable to takeover: CEO in Boersen-Zeitung', 'href': 'http://www.reuters.com/article/us-infineon-technol-m-a/infineon-not-vulnerable-to-takeover-ceo-in-boersen-zeitung-idUSKBN1EO0BV'}\n",
      "{'ts': '20171231\\xa08:14AM UTC', 'title': 'Infineon not vulnerable to takeover - CEO in Boersen-Zeitung', 'href': 'http://www.reuters.com/article/infineon-technol-ma/infineon-not-vulnerable-to-takeover-ceo-in-boersen-zeitung-idUSL8N1OU071'}\n",
      "{'ts': '20171231\\xa07:56AM UTC', 'title': 'Egypt sentences ex-President Mursi, 19 others to three years in jail for insulting judiciary', 'href': 'http://www.reuters.com/article/us-egypt-court/egypt-sentences-ex-president-mursi-19-others-to-three-years-in-jail-for-insulting-judiciary-idUSKBN1EO082'}\n",
      "{'ts': '20171231\\xa07:50AM UTC', 'title': 'Exclusive: Russian tankers fueled North Korea via transfers at sea - sources', 'href': 'http://www.reuters.com/article/us-northkorea-missiles-russia-oil-exclus/exclusive-russian-tankers-fueled-north-korea-via-transfers-at-sea-sources-idUSKBN1EN1OJ'}\n",
      "{'ts': '20171231\\xa07:38AM UTC', 'title': 'Sudan announces state of emergency in Kassala, North Kurdufan: SUNA', 'href': 'http://www.reuters.com/article/us-sudan-security/sudan-announces-state-of-emergency-in-kassala-north-kurdufan-suna-idUSKBN1EO0AZ'}\n",
      "{'ts': '20171231\\xa07:35AM UTC', 'title': 'Around 6,000 Swiss VW owners seek damages in emissions scandal', 'href': 'http://www.reuters.com/article/us-volkswagen-emissions-swiss/around-6000-swiss-vw-owners-seek-damages-in-emissions-scandal-idUSKBN1EO090'}\n",
      "{'ts': '20171231\\xa07:32AM UTC', 'title': 'UPDATE 1-Around 6,000 Swiss VW owners seek damages in emissions scandal', 'href': 'http://www.reuters.com/article/volkswagen-emissions-swiss/update-1-around-6000-swiss-vw-owners-seek-damages-in-emissions-scandal-idUSL8N1OU06A'}\n",
      "{'ts': '20171231\\xa07:30AM UTC', 'title': 'State-run Bank of India says gets $354 mln capital from government', 'href': 'http://www.reuters.com/article/bank-of-india-capital/state-run-bank-of-india-says-gets-354-mln-capital-from-government-idUSL4N1OU043'}\n",
      "{'ts': '20171231\\xa07:20AM UTC', 'title': 'Russian court upholds ban on Navalny running against Putin in 2018', 'href': 'http://www.reuters.com/article/us-russia-election-navalny/russian-court-upholds-ban-on-navalny-running-against-putin-in-2018-idUSKBN1EO0A1'}\n",
      "{'ts': '20171231\\xa07:16AM UTC', 'title': 'Uniper CEO criticizes suitor Fortum for lack of clarity', 'href': 'http://www.reuters.com/article/us-uniper-m-a-fortum-oyj/uniper-ceo-criticizes-suitor-fortum-for-lack-of-clarity-idUSKBN1EO0AR'}\n",
      "{'ts': '20171231\\xa07:08AM UTC', 'title': 'Uniper CEO criticises suitor Fortum for lack of clarity', 'href': 'http://www.reuters.com/article/uniper-ma-fortum-oyj/uniper-ceo-criticises-suitor-fortum-for-lack-of-clarity-idUSL8N1OU066'}\n",
      "{'ts': '20171231\\xa07:04AM UTC', 'title': \"Lufthansa's Brussels Airlines set to cut costs by 10-15 percent\", 'href': 'http://www.reuters.com/article/us-lufthansa-brusselsairlines/lufthansas-brussels-airlines-set-to-cut-costs-by-10-15-percent-idUSKBN1EO0AD'}\n",
      "{'ts': '20171231\\xa06:54AM UTC', 'title': \"Lufthansa's Brussels Airlines set to cut costs by 10-15 pct\", 'href': 'http://www.reuters.com/article/lufthansa-brusselsairlines/lufthansas-brussels-airlines-set-to-cut-costs-by-10-15-pct-idUSL8N1OU05Z'}\n",
      "{'ts': '20171231\\xa06:51AM UTC', 'title': 'Beijing may be starting to win its battle against smog', 'href': 'http://www.reuters.com/article/us-china-pollution-beijing-insight/beijing-may-be-starting-to-win-its-battle-against-smog-idUSKBN1EN0ZJ'}\n",
      "{'ts': '20171231\\xa06:30AM UTC', 'title': 'Austrian finance minister wants to save 2.5 billion euros in 2018', 'href': 'http://www.reuters.com/article/us-austria-finances/austrian-finance-minister-wants-to-save-2-5-billion-euros-in-2018-idUSKBN1EO09Q'}\n",
      "{'ts': '20171231\\xa06:19AM UTC', 'title': \"ECB's Coeure sees 'reasonable chance' bond buys will not be extended\", 'href': 'http://www.reuters.com/article/us-ecb-policy-coeure/ecbs-coeure-sees-reasonable-chance-bond-buys-will-not-be-extended-idUSKBN1EO08U'}\n",
      "{'ts': '20171231\\xa06:06AM UTC', 'title': 'China to cap overseas withdrawals using domestic bank cards', 'href': 'http://www.reuters.com/article/us-china-forex-banks/china-to-cap-overseas-withdrawals-using-domestic-bank-cards-idUSKBN1EO084'}\n",
      "{'ts': '20171231\\xa06:06AM UTC', 'title': 'ECB\\'s Coeure sees \"reasonable chance\" bond buys will not be extended', 'href': 'http://www.reuters.com/article/ecb-policy-coeure/ecbs-coeure-sees-reasonable-chance-bond-buys-will-not-be-extended-idUSL8N1OU05J'}\n",
      "{'ts': '20171231\\xa06:02AM UTC', 'title': 'Preview: Villanova at Butler', 'href': 'http://www.reuters.com/article/basketball-ncaa-butler-villanova-preview/preview-villanova-at-butler-idUSMTZEDCURW3P0M'}\n",
      "{'ts': '20171231\\xa06:02AM UTC', 'title': 'Preview: Harvard at Minnesota', 'href': 'http://www.reuters.com/article/basketball-ncaa-minnesota-harvard-previe/preview-harvard-at-minnesota-idUSMTZEDCURW3P0L'}\n",
      "{'ts': '20171231\\xa06:02AM UTC', 'title': 'Preview: Heat at Magic', 'href': 'http://www.reuters.com/article/basketball-nba-orl-mia-preview/preview-heat-at-magic-idUSMTZEDCURW3P0K'}\n",
      "{'ts': '20171231\\xa06:02AM UTC', 'title': 'Preview: Devils at Capitals', 'href': 'http://www.reuters.com/article/icehockey-nhl-wsh-njd-preview/preview-devils-at-capitals-idUSMTZEDCURW3P0J'}\n",
      "{'ts': '20171231\\xa06:02AM UTC', 'title': 'Preview: Knicks at Pelicans', 'href': 'http://www.reuters.com/article/basketball-nba-nop-nyk-preview/preview-knicks-at-pelicans-idUSMTZEDCURW3O0I'}\n",
      "{'ts': '20171231\\xa06:02AM UTC', 'title': 'Preview: Tennessee at Arkansas', 'href': 'http://www.reuters.com/article/basketball-ncaa-arkansas-tennessee-previ/preview-tennessee-at-arkansas-idUSMTZEDCURW3O0H'}\n",
      "{'ts': '20171231\\xa06:02AM UTC', 'title': 'Preview: Wake Forest at North Carolina', 'href': 'http://www.reuters.com/article/basketball-ncaa-norther-carolina-wakeer/preview-wake-forest-at-north-carolina-idUSMTZEDCURW3O0G'}\n",
      "{'ts': '20171231\\xa06:02AM UTC', 'title': 'Preview: Cornell at Auburn', 'href': 'http://www.reuters.com/article/basketball-ncaa-auburn-cornell-preview/preview-cornell-at-auburn-idUSMTZEDCURW3O0F'}\n",
      "{'ts': '20171231\\xa06:02AM UTC', 'title': 'Preview: 76ers at Nuggets', 'href': 'http://www.reuters.com/article/basketball-nba-den-phi-preview/preview-76ers-at-nuggets-idUSMTZEDCURW3O0E'}\n",
      "{'ts': '20171231\\xa06:02AM UTC', 'title': 'Preview: Spurs at Pistons', 'href': 'http://www.reuters.com/article/basketball-nba-det-sas-preview/preview-spurs-at-pistons-idUSMTZEDCURW3N0D'}\n",
      "{'ts': '20171231\\xa06:02AM UTC', 'title': 'Preview: Trail Blazers at Hawks', 'href': 'http://www.reuters.com/article/basketball-nba-atl-por-preview/preview-trail-blazers-at-hawks-idUSMTZEDCURW3N0C'}\n",
      "{'ts': '20171231\\xa06:02AM UTC', 'title': 'Preview: Brown at Northwestern', 'href': 'http://www.reuters.com/article/basketball-ncaa-northwestern-brown-previ/preview-brown-at-northwestern-idUSMTZEDCURW3N0B'}\n",
      "{'ts': '20171231\\xa06:02AM UTC', 'title': 'Preview: Lipscomb at Purdue', 'href': 'http://www.reuters.com/article/basketball-ncaa-purdue-lipscomb-preview/preview-lipscomb-at-purdue-idUSMTZEDCURW3N0A'}\n",
      "{'ts': '20171231\\xa06:02AM UTC', 'title': 'Preview: North Florida at Mississippi State', 'href': 'http://www.reuters.com/article/basketball-ncaa-mississippier-st-norther/preview-north-florida-at-mississippi-state-idUSMTZEDCURW3N09'}\n",
      "{'ts': '20171231\\xa06:02AM UTC', 'title': 'Preview: DePaul at Xavier', 'href': 'http://www.reuters.com/article/basketball-ncaa-xavier-depaul-preview/preview-depaul-at-xavier-idUSMTZEDCURW3M08'}\n",
      "{'ts': '20171231\\xa06:02AM UTC', 'title': 'Preview: Bruins at Senators', 'href': 'http://www.reuters.com/article/icehockey-nhl-ott-bos-preview/preview-bruins-at-senators-idUSMTZEDCURW3M07'}\n",
      "{'ts': '20171231\\xa06:02AM UTC', 'title': 'Preview: Santa Clara at Gonzaga', 'href': 'http://www.reuters.com/article/basketball-ncaa-gonzaga-santaer-clara-pr/preview-santa-clara-at-gonzaga-idUSMTZEDCURW3M06'}\n",
      "{'ts': '20171231\\xa06:02AM UTC', 'title': 'Preview: Coppin State at Penn State', 'href': 'http://www.reuters.com/article/basketball-ncaa-penner-st-coppiner-st-pr/preview-coppin-state-at-penn-state-idUSMTZEDCURW3M05'}\n",
      "{'ts': '20171231\\xa06:02AM UTC', 'title': 'Preview: North Carolina State at Clemson', 'href': 'http://www.reuters.com/article/basketball-ncaa-clemson-norther-carolina/preview-north-carolina-state-at-clemson-idUSMTZEDCURW3L04'}\n",
      "{'ts': '20171231\\xa06:02AM UTC', 'title': 'Preview: Florida State at Duke', 'href': 'http://www.reuters.com/article/basketball-ncaa-duke-floridaer-st-previe/preview-florida-state-at-duke-idUSMTZEDCURW3L02'}\n",
      "{'ts': '20171231\\xa06:02AM UTC', 'title': 'Preview: Arizona State at Arizona', 'href': 'http://www.reuters.com/article/basketball-ncaa-arizona-arizonaer-st-pre/preview-arizona-state-at-arizona-idUSMTZEDCURW3L00'}\n",
      "{'ts': '20171231\\xa06:02AM UTC', 'title': 'Preview: California at Stanford', 'href': 'http://www.reuters.com/article/basketball-ncaa-stanford-california-prev/preview-california-at-stanford-idUSMTZEDCURW3KZZ'}\n",
      "{'ts': '20171231\\xa06:02AM UTC', 'title': 'Preview: Georgia Tech at Notre Dame', 'href': 'http://www.reuters.com/article/basketball-ncaa-notreer-dame-georgiaer-t/preview-georgia-tech-at-notre-dame-idUSMTZEDCURW3KZY'}\n",
      "{'ts': '20171231\\xa06:02AM UTC', 'title': 'Preview: Georgetown at Marquette', 'href': 'http://www.reuters.com/article/basketball-ncaa-marquette-georgetown-pre/preview-georgetown-at-marquette-idUSMTZEDCURW3KZX'}\n",
      "{'ts': '20171231\\xa06:02AM UTC', 'title': 'Preview: Canadiens at Panthers', 'href': 'http://www.reuters.com/article/icehockey-nhl-fla-mtl-preview/preview-canadiens-at-panthers-idUSMTZEDCURW3JZW'}\n",
      "{'ts': '20171231\\xa06:02AM UTC', 'title': 'Preview: Wild at Predators', 'href': 'http://www.reuters.com/article/icehockey-nhl-nsh-min-preview/preview-wild-at-predators-idUSMTZEDCURW3JZV'}\n",
      "{'ts': '20171231\\xa06:02AM UTC', 'title': 'Preview: Wichita State at Connecticut', 'href': 'http://www.reuters.com/article/basketball-ncaa-connecticut-wichitaer-st/preview-wichita-state-at-connecticut-idUSMTZEDCURW3JZU'}\n",
      "{'ts': '20171231\\xa06:02AM UTC', 'title': 'Preview: Vanderbilt at Florida', 'href': 'http://www.reuters.com/article/basketball-ncaa-florida-vanderbilt-previ/preview-vanderbilt-at-florida-idUSMTZEDCURW3JZT'}\n",
      "{'ts': '20171231\\xa06:02AM UTC', 'title': 'Preview: Hurricanes at Blues', 'href': 'http://www.reuters.com/article/icehockey-nhl-stl-car-preview/preview-hurricanes-at-blues-idUSMTZEDCURW3IZR'}\n",
      "{'ts': '20171231\\xa06:02AM UTC', 'title': 'Preview: Boston College at Virginia', 'href': 'http://www.reuters.com/article/basketball-ncaa-virginia-bostoner-colleg/preview-boston-college-at-virginia-idUSMTZEDCURW3IZQ'}\n",
      "{'ts': '20171231\\xa06:02AM UTC', 'title': 'Preview: Grand Canyon at Illinois', 'href': 'http://www.reuters.com/article/basketball-ncaa-illinois-grander-canyon/preview-grand-canyon-at-illinois-idUSMTZEDCURW3IZP'}\n",
      "{'ts': '20171231\\xa06:02AM UTC', 'title': 'Preview: Grizzlies at Warriors', 'href': 'http://www.reuters.com/article/basketball-nba-gsw-mem-preview/preview-grizzlies-at-warriors-idUSMTZEDCURW3IZO'}\n",
      "{'ts': '20171231\\xa06:02AM UTC', 'title': 'Preview: Kings at Canucks', 'href': 'http://www.reuters.com/article/icehockey-nhl-van-lak-preview/preview-kings-at-canucks-idUSMTZEDCURW3HZN'}\n",
      "{'ts': '20171231\\xa05:59AM UTC', 'title': 'Around 6,000 Swiss VW owners seek damages in emissions scandal', 'href': 'http://www.reuters.com/article/volkswagen-emissions-swiss/around-6000-swiss-vw-owners-seek-damages-in-emissions-scandal-idUSL8N1OU05I'}\n",
      "{'ts': '20171231\\xa05:59AM UTC', 'title': 'UPDATE 1-China to cap overseas withdrawals using domestic bank cards', 'href': 'http://www.reuters.com/article/china-forex-banks/update-1-china-to-cap-overseas-withdrawals-using-domestic-bank-cards-idUSL4N1OU03T'}\n",
      "{'ts': '20171231\\xa05:24AM UTC', 'title': 'China to cap overseas withdrawals using domestic bank cards', 'href': 'http://www.reuters.com/article/china-forex-banks/china-to-cap-overseas-withdrawals-using-domestic-bank-cards-idUSL4N1OU03N'}\n",
      "{'ts': '20171231\\xa05:07AM UTC', 'title': 'China jails 36 for gang crimes including extortion, homicide', 'href': 'http://www.reuters.com/article/us-china-crime/china-jails-36-for-gang-crimes-including-extortion-homicide-idUSKBN1EO07K'}\n",
      "{'ts': '20171231\\xa04:57AM UTC', 'title': 'Putin tells Assad Russia will help defend Syrian sovereignty: Kremlin', 'href': 'http://www.reuters.com/article/us-mideast-crisis-syria-russia/putin-tells-assad-russia-will-help-defend-syrian-sovereignty-kremlin-idUSKBN1EO06P'}\n",
      "{'ts': '20171231\\xa04:49AM UTC', 'title': 'Forties pipeline fully operational, loadings to resume -Ineos', 'href': 'http://www.reuters.com/article/oil-forties/forties-pipeline-fully-operational-loadings-to-resume-ineos-idUSL8N1OU04Q'}\n",
      "{'ts': '20171231\\xa04:42AM UTC', 'title': 'China jails 36 for gang crimes including extortion, homicide', 'href': 'http://www.reuters.com/article/china-crime/china-jails-36-for-gang-crimes-including-extortion-homicide-idUSL4N1OU03K'}\n",
      "{'ts': '20171231\\xa04:40AM UTC', 'title': \"Highlights of Friday's NHL games\", 'href': 'http://www.reuters.com/article/us-icehockey-nhl-highlights/highlights-of-fridays-nhl-games-idUSKBN1EO06W'}\n",
      "{'ts': '20171231\\xa04:28AM UTC', 'title': 'Turkey says EU funds not being actively used for needs of Syrian refugees', 'href': 'http://www.reuters.com/article/us-turkey-eu-funds/turkey-says-eu-funds-not-being-actively-used-for-needs-of-syrian-refugees-idUSKBN1EO06S'}\n",
      "{'ts': '20171231\\xa04:04AM UTC', 'title': 'SPECIAL REPORT-Meet the force behind Zimbabwe\\'s \"Crocodile\" president', 'href': 'http://www.reuters.com/article/zimbabwe-mnangagwa-generals/special-report-meet-the-force-behind-zimbabwes-crocodile-president-idUSL8N1OT31J'}\n",
      "{'ts': '20171231\\xa03:44AM UTC', 'title': 'Indian regulators face legal challenge in probe over prescient messages', 'href': 'http://www.reuters.com/article/us-india-whatsapp-sebi/indian-regulators-face-legal-challenge-in-probe-over-prescient-messages-idUSKBN1EO05M'}\n",
      "{'ts': '20171231\\xa03:42AM UTC', 'title': 'Wall Street eyes 2018 gains with a side of caution', 'href': 'http://www.reuters.com/article/us-usa-stocks-weekahead/wall-street-eyes-2018-gains-with-a-side-of-caution-idUSKBN1EN0ZF'}\n",
      "{'ts': '20171231\\xa03:41AM UTC', 'title': 'Deutsche Bank to resume normal bonuses, some to get raises: CEO', 'href': 'http://www.reuters.com/article/us-deutsche-bank-bonuses/deutsche-bank-to-resume-normal-bonuses-some-to-get-raises-ceo-idUSKBN1EO05H'}\n",
      "{'ts': '20171231\\xa03:39AM UTC', 'title': 'Saudi Aramco shipyard joint venture appoints CEO', 'href': 'http://www.reuters.com/article/us-aramco-shipbuilding/saudi-aramco-shipyard-joint-venture-appoints-ceo-idUSKBN1EO05D'}\n",
      "{'ts': '20171231\\xa03:30AM UTC', 'title': 'Deutsche Bank to resume normal bonuses, some to get raises -CEO', 'href': 'http://www.reuters.com/article/deutsche-bank-bonuses/deutsche-bank-to-resume-normal-bonuses-some-to-get-raises-ceo-idUSL8N1OU02Z'}\n",
      "{'ts': '20171231\\xa03:29AM UTC', 'title': 'Saudi Aramco shipyard joint venture appoints CEO', 'href': 'http://www.reuters.com/article/aramco-shipbuilding/saudi-aramco-shipyard-joint-venture-appoints-ceo-idUSL8N1OU03G'}\n",
      "{'ts': '20171231\\xa02:34AM UTC', 'title': \"Canada scales back New Year's Eve party due to extreme cold\", 'href': 'http://www.reuters.com/article/us-canada-weather/canada-scales-back-new-years-eve-party-due-to-extreme-cold-idUSKBN1EN1LL'}\n",
      "{'ts': '20171231\\xa02:32AM UTC', 'title': 'Gunman kills 11 in attacks on Coptic church, Christian-owned shop in Egypt', 'href': 'http://www.reuters.com/article/us-egypt-security/gunman-kills-11-in-attacks-on-coptic-church-christian-owned-shop-in-egypt-idUSKBN1EN0SX'}\n",
      "{'ts': '20171231\\xa02:29AM UTC', 'title': \"Highlights of Friday's NBA games\", 'href': 'http://www.reuters.com/article/us-basketball-nba-highlights/highlights-of-fridays-nba-games-idUSKBN1EO045'}\n",
      "{'ts': '20171231\\xa02:22AM UTC', 'title': 'China recovers $112 million in misused poverty relief funds - Xinhua', 'href': 'http://www.reuters.com/article/us-china-poverty/china-recovers-112-million-in-misused-poverty-relief-funds-xinhua-idUSKBN1EO041'}\n",
      "{'ts': '20171231\\xa02:13AM UTC', 'title': 'Zambia president orders military to help fight cholera spread', 'href': 'http://www.reuters.com/article/us-zambia-cholera/zambia-president-orders-military-to-help-fight-cholera-spread-idUSKBN1EO03V'}\n",
      "{'ts': '20171231\\xa01:45AM UTC', 'title': \"Griffin returns to spark Clippers' rout of Lakers\", 'href': 'http://www.reuters.com/article/basketball-nba-lal-lac-writethru/griffin-returns-to-spark-clippers-rout-of-lakers-idUSMTZEDCURGLFVN'}\n",
      "{'ts': '20171231\\xa01:36AM UTC', 'title': 'Howard helps Hornets sting Warriors', 'href': 'http://www.reuters.com/article/basketball-nba-gsw-cha-writethru/howard-helps-hornets-sting-warriors-idUSMTZEDCURG9FVA'}\n",
      "{'ts': '20171231\\xa01:30AM UTC', 'title': \"Rakell gets decisive goal in Ducks' win over Flames\", 'href': 'http://www.reuters.com/article/icehockey-nhl-ana-cgy-writethru/rakell-gets-decisive-goal-in-ducks-win-over-flames-idUSMTZEDCURG2SV8'}\n",
      "{'ts': '20171231\\xa01:21AM UTC', 'title': 'Turnovers help Ohio State dominant USC in Cotton Bowl', 'href': 'http://www.reuters.com/article/football-ncaa-ohioer-state-southerner-ca/turnovers-help-ohio-state-dominant-usc-in-cotton-bowl-idUSMTZEDCUREOXSS'}\n",
      "{'ts': '20171231\\xa01:12AM UTC', 'title': 'Booker, Suns pull away from Kings late', 'href': 'http://www.reuters.com/article/basketball-nba-sac-phx-writethru/booker-suns-pull-away-from-kings-late-idUSMTZEDCUREXLT9'}\n",
      "{'ts': '20171231\\xa01:06AM UTC', 'title': 'UCLA tops Washington State in Pac-12 opener', 'href': 'http://www.reuters.com/article/basketball-ncaa-ucla-washingtoner-st-wri/ucla-tops-washington-state-in-pac-12-opener-idUSMTZEDCURGXSVS'}\n",
      "{'ts': '20171231\\xa012:50AM UTC', 'title': 'New Mexico State wins Arizona Bowl in OT', 'href': 'http://www.reuters.com/article/football-ncaa-utaher-state-newer-mexicoe/new-mexico-state-wins-arizona-bowl-in-ot-idUSMTZEDCUR89BDY'}\n",
      "{'ts': '20171231\\xa012:46AM UTC', 'title': 'Thompson Jr. powers Oregon State in rout of Colorado', 'href': 'http://www.reuters.com/article/basketball-ncaa-oregoner-st-colorado-wri/thompson-jr-powers-oregon-state-in-rout-of-colorado-idUSMTZEDCURH1BW1'}\n",
      "{'ts': '20171231\\xa012:27AM UTC', 'title': \"Compher's OT goal lifts Avalanche past Leafs\", 'href': 'http://www.reuters.com/article/icehockey-nhl-col-tor-writethru/comphers-ot-goal-lifts-avalanche-past-leafs-idUSMTZEDCURCZCQ7'}\n",
      "{'ts': '20171231\\xa012:20AM UTC', 'title': 'Radulov, Bishop lead Stars past Blues', 'href': 'http://www.reuters.com/article/icehockey-nhl-dal-stl-writethru/radulov-bishop-lead-stars-past-blues-idUSMTZEDCURCK4OL'}\n",
      "{'ts': '20171231\\xa012:15AM UTC', 'title': 'Glass ceiling: 32-year-old rookie leads Blackhawks past Oilers', 'href': 'http://www.reuters.com/article/icehockey-nhl-edm-chi-writethru/glass-ceiling-32-year-old-rookie-leads-blackhawks-past-oilers-idUSMTZEDCURCPDP8'}\n",
      "{'ts': '20171231\\xa012:14AM UTC', 'title': 'Bucks beat Thunder on controversial Antetokounmpo basket', 'href': 'http://www.reuters.com/article/us-basketball-nba-okc-mil/bucks-beat-thunder-on-controversial-antetokounmpo-basket-idUSKBN1EO02U'}\n",
      "{'ts': '20171231\\xa012:12AM UTC', 'title': 'Washington shooting too much for USC', 'href': 'http://www.reuters.com/article/basketball-ncaa-southerner-california-wa/washington-shooting-too-much-for-usc-idUSMTZEDCURFGGU6'}\n",
      "{'ts': '20171231\\xa012:05AM UTC', 'title': 'Jets dispatch Islanders to continue home run', 'href': 'http://www.reuters.com/article/icehockey-nhl-wpg-nyi-writethru/jets-dispatch-islanders-to-continue-home-run-idUSMTZEDCURA79JG'}\n",
      "{'ts': '20171231\\xa02:54PM UTC', 'title': 'Man arrested after prank 911 call turns deadly', 'href': 'http://www.reuters.com/news/video/videoStory?storyID=OV7E434DB'}\n",
      "{'ts': '20171231\\xa02:53PM UTC', 'title': 'Two men arraigned in New York quadruple homicide case', 'href': 'http://www.reuters.com/news/video/videoStory?storyID=OV7E436QN'}\n",
      "{'ts': '20171231\\xa012:50PM UTC', 'title': \"Siberian divers stage a pre-New Year's underwater party in Lake Baikal\", 'href': 'http://www.reuters.com/news/video/videoStory?storyID=OV7E3UZXD'}\n",
      "{'ts': '20171231\\xa05:02AM UTC', 'title': 'Gunman kills 11 in Cairo attacks', 'href': 'http://www.reuters.com/news/video/videoStory?storyID=RCV004ALL'}\n",
      "{'ts': '20171231\\xa05:02AM UTC', 'title': 'China sees results in its battle against smog', 'href': 'http://www.reuters.com/news/video/videoStory?storyID=RCV004ALY'}\n"
     ]
    }
   ],
   "source": [
    "#opening a PKL file and split into each independent row\n",
    "\n",
    "import pickle\n",
    "\n",
    "with open('Dataset/reuters/20171231.pkl', 'rb') as f:\n",
    "    data = pickle.load(f)\n",
    "    for x in data:\n",
    "      print(x)"
   ]
  },
  {
   "cell_type": "code",
   "execution_count": 147,
   "metadata": {},
   "outputs": [
    {
     "name": "stdout",
     "output_type": "stream",
     "text": [
      "No. 14 Purdue routs Lipscomb, runs win streak to 9\n",
      "2017123\n",
      "23:17:00\n"
     ]
    }
   ],
   "source": [
    "## Extraction Complete\n",
    "\n",
    "import pandas as pd\n",
    "import pickle\n",
    "\n",
    "times = []\n",
    "date = []\n",
    "time = []\n",
    "titles = []\n",
    "\n",
    "\n",
    "df=pd.read_pickle(filename)\n",
    "for t in df:\n",
    "        y = t.get('ts')\n",
    "        y1 = y.replace('UTC','')\n",
    "        date1 = y1[0:7]\n",
    "        time1 = y1[9:-1]\n",
    "        m2 = time1\n",
    "        m2 = datetime.strptime(m2, '%I:%M%p')\n",
    "        m3 = str(m2)\n",
    "        m4=m3.split(\" \")\n",
    "        time.append (m4[1])\n",
    "        date.append (date1)\n",
    "        times.append (t.get('ts'))\n",
    "        titles.append (t.get(\"title\"))\n",
    "print(titles[5])\n",
    "print(date[5])\n",
    "print(time[5])\n",
    "\n",
    "df=pd.DataFrame({\"date\" : date[0:-1], \"time\" : time[0:-1], \"title\" : titles[0:-1]})\n",
    "df.to_csv(\"output1.csv\")\n",
    "\n"
   ]
  },
  {
   "cell_type": "code",
   "execution_count": 126,
   "metadata": {},
   "outputs": [
    {
     "name": "stdout",
     "output_type": "stream",
     "text": [
      "13:35:00\n"
     ]
    }
   ],
   "source": [
    "from datetime import *\n",
    "m2 = '1:35PM'\n",
    "m2 = datetime.strptime(m2, '%I:%M%p')\n",
    "m3 = str(m2)\n",
    "m4=m3.split(\" \")\n",
    "\n",
    "print(m4[1])\n"
   ]
  },
  {
   "cell_type": "code",
   "execution_count": 141,
   "metadata": {},
   "outputs": [
    {
     "name": "stdout",
     "output_type": "stream",
     "text": [
      "<class 'list'>\n"
     ]
    }
   ],
   "source": [
    "import pandas as pd\n",
    "df= pd.read_pickle('Dataset/reuters/20171231.pkl')\n",
    "\n",
    "print (type(df))"
   ]
  },
  {
   "cell_type": "code",
   "execution_count": 177,
   "metadata": {},
   "outputs": [
    {
     "ename": "KeyError",
     "evalue": "44",
     "output_type": "error",
     "traceback": [
      "\u001b[1;31m---------------------------------------------------------------------------\u001b[0m",
      "\u001b[1;31mUnpicklingError\u001b[0m                           Traceback (most recent call last)",
      "\u001b[1;32m~\\Anaconda3\\lib\\site-packages\\pandas\\io\\pickle.py\u001b[0m in \u001b[0;36mtry_read\u001b[1;34m(path, encoding)\u001b[0m\n\u001b[0;32m    165\u001b[0m                 \u001b[1;31m# We want to silencce any warnings about, e.g. moved modules.\u001b[0m\u001b[1;33m\u001b[0m\u001b[1;33m\u001b[0m\u001b[0m\n\u001b[1;32m--> 166\u001b[1;33m                 \u001b[1;32mreturn\u001b[0m \u001b[0mread_wrapper\u001b[0m\u001b[1;33m(\u001b[0m\u001b[1;32mlambda\u001b[0m \u001b[0mf\u001b[0m\u001b[1;33m:\u001b[0m \u001b[0mpkl\u001b[0m\u001b[1;33m.\u001b[0m\u001b[0mload\u001b[0m\u001b[1;33m(\u001b[0m\u001b[0mf\u001b[0m\u001b[1;33m)\u001b[0m\u001b[1;33m)\u001b[0m\u001b[1;33m\u001b[0m\u001b[0m\n\u001b[0m\u001b[0;32m    167\u001b[0m         \u001b[1;32mexcept\u001b[0m \u001b[0mException\u001b[0m\u001b[1;33m:\u001b[0m\u001b[1;33m\u001b[0m\u001b[0m\n",
      "\u001b[1;32m~\\Anaconda3\\lib\\site-packages\\pandas\\io\\pickle.py\u001b[0m in \u001b[0;36mread_wrapper\u001b[1;34m(func)\u001b[0m\n\u001b[0;32m    148\u001b[0m         \u001b[1;32mtry\u001b[0m\u001b[1;33m:\u001b[0m\u001b[1;33m\u001b[0m\u001b[0m\n\u001b[1;32m--> 149\u001b[1;33m             \u001b[1;32mreturn\u001b[0m \u001b[0mfunc\u001b[0m\u001b[1;33m(\u001b[0m\u001b[0mf\u001b[0m\u001b[1;33m)\u001b[0m\u001b[1;33m\u001b[0m\u001b[0m\n\u001b[0m\u001b[0;32m    150\u001b[0m         \u001b[1;32mfinally\u001b[0m\u001b[1;33m:\u001b[0m\u001b[1;33m\u001b[0m\u001b[0m\n",
      "\u001b[1;32m~\\Anaconda3\\lib\\site-packages\\pandas\\io\\pickle.py\u001b[0m in \u001b[0;36m<lambda>\u001b[1;34m(f)\u001b[0m\n\u001b[0;32m    165\u001b[0m                 \u001b[1;31m# We want to silencce any warnings about, e.g. moved modules.\u001b[0m\u001b[1;33m\u001b[0m\u001b[1;33m\u001b[0m\u001b[0m\n\u001b[1;32m--> 166\u001b[1;33m                 \u001b[1;32mreturn\u001b[0m \u001b[0mread_wrapper\u001b[0m\u001b[1;33m(\u001b[0m\u001b[1;32mlambda\u001b[0m \u001b[0mf\u001b[0m\u001b[1;33m:\u001b[0m \u001b[0mpkl\u001b[0m\u001b[1;33m.\u001b[0m\u001b[0mload\u001b[0m\u001b[1;33m(\u001b[0m\u001b[0mf\u001b[0m\u001b[1;33m)\u001b[0m\u001b[1;33m)\u001b[0m\u001b[1;33m\u001b[0m\u001b[0m\n\u001b[0m\u001b[0;32m    167\u001b[0m         \u001b[1;32mexcept\u001b[0m \u001b[0mException\u001b[0m\u001b[1;33m:\u001b[0m\u001b[1;33m\u001b[0m\u001b[0m\n",
      "\u001b[1;31mUnpicklingError\u001b[0m: invalid load key, ','.",
      "\nDuring handling of the above exception, another exception occurred:\n",
      "\u001b[1;31mKeyError\u001b[0m                                  Traceback (most recent call last)",
      "\u001b[1;32m~\\Anaconda3\\lib\\site-packages\\pandas\\io\\pickle.py\u001b[0m in \u001b[0;36mtry_read\u001b[1;34m(path, encoding)\u001b[0m\n\u001b[0;32m    170\u001b[0m                 return read_wrapper(\n\u001b[1;32m--> 171\u001b[1;33m                     lambda f: pc.load(f, encoding=encoding, compat=False))\n\u001b[0m\u001b[0;32m    172\u001b[0m             \u001b[1;31m# compat pickle\u001b[0m\u001b[1;33m\u001b[0m\u001b[1;33m\u001b[0m\u001b[0m\n",
      "\u001b[1;32m~\\Anaconda3\\lib\\site-packages\\pandas\\io\\pickle.py\u001b[0m in \u001b[0;36mread_wrapper\u001b[1;34m(func)\u001b[0m\n\u001b[0;32m    148\u001b[0m         \u001b[1;32mtry\u001b[0m\u001b[1;33m:\u001b[0m\u001b[1;33m\u001b[0m\u001b[0m\n\u001b[1;32m--> 149\u001b[1;33m             \u001b[1;32mreturn\u001b[0m \u001b[0mfunc\u001b[0m\u001b[1;33m(\u001b[0m\u001b[0mf\u001b[0m\u001b[1;33m)\u001b[0m\u001b[1;33m\u001b[0m\u001b[0m\n\u001b[0m\u001b[0;32m    150\u001b[0m         \u001b[1;32mfinally\u001b[0m\u001b[1;33m:\u001b[0m\u001b[1;33m\u001b[0m\u001b[0m\n",
      "\u001b[1;32m~\\Anaconda3\\lib\\site-packages\\pandas\\io\\pickle.py\u001b[0m in \u001b[0;36m<lambda>\u001b[1;34m(f)\u001b[0m\n\u001b[0;32m    170\u001b[0m                 return read_wrapper(\n\u001b[1;32m--> 171\u001b[1;33m                     lambda f: pc.load(f, encoding=encoding, compat=False))\n\u001b[0m\u001b[0;32m    172\u001b[0m             \u001b[1;31m# compat pickle\u001b[0m\u001b[1;33m\u001b[0m\u001b[1;33m\u001b[0m\u001b[0m\n",
      "\u001b[1;32m~\\Anaconda3\\lib\\site-packages\\pandas\\compat\\pickle_compat.py\u001b[0m in \u001b[0;36mload\u001b[1;34m(fh, encoding, compat, is_verbose)\u001b[0m\n\u001b[0;32m    211\u001b[0m \u001b[1;33m\u001b[0m\u001b[0m\n\u001b[1;32m--> 212\u001b[1;33m         \u001b[1;32mreturn\u001b[0m \u001b[0mup\u001b[0m\u001b[1;33m.\u001b[0m\u001b[0mload\u001b[0m\u001b[1;33m(\u001b[0m\u001b[1;33m)\u001b[0m\u001b[1;33m\u001b[0m\u001b[0m\n\u001b[0m\u001b[0;32m    213\u001b[0m     \u001b[1;32mexcept\u001b[0m\u001b[1;33m:\u001b[0m\u001b[1;33m\u001b[0m\u001b[0m\n",
      "\u001b[1;32m~\\Anaconda3\\lib\\pickle.py\u001b[0m in \u001b[0;36mload\u001b[1;34m(self)\u001b[0m\n\u001b[0;32m   1049\u001b[0m                 \u001b[1;32massert\u001b[0m \u001b[0misinstance\u001b[0m\u001b[1;33m(\u001b[0m\u001b[0mkey\u001b[0m\u001b[1;33m,\u001b[0m \u001b[0mbytes_types\u001b[0m\u001b[1;33m)\u001b[0m\u001b[1;33m\u001b[0m\u001b[0m\n\u001b[1;32m-> 1050\u001b[1;33m                 \u001b[0mdispatch\u001b[0m\u001b[1;33m[\u001b[0m\u001b[0mkey\u001b[0m\u001b[1;33m[\u001b[0m\u001b[1;36m0\u001b[0m\u001b[1;33m]\u001b[0m\u001b[1;33m]\u001b[0m\u001b[1;33m(\u001b[0m\u001b[0mself\u001b[0m\u001b[1;33m)\u001b[0m\u001b[1;33m\u001b[0m\u001b[0m\n\u001b[0m\u001b[0;32m   1051\u001b[0m         \u001b[1;32mexcept\u001b[0m \u001b[0m_Stop\u001b[0m \u001b[1;32mas\u001b[0m \u001b[0mstopinst\u001b[0m\u001b[1;33m:\u001b[0m\u001b[1;33m\u001b[0m\u001b[0m\n",
      "\u001b[1;31mKeyError\u001b[0m: 44",
      "\nDuring handling of the above exception, another exception occurred:\n",
      "\u001b[1;31mKeyError\u001b[0m                                  Traceback (most recent call last)",
      "\u001b[1;32m~\\Anaconda3\\lib\\site-packages\\pandas\\io\\pickle.py\u001b[0m in \u001b[0;36mread_pickle\u001b[1;34m(path, compression)\u001b[0m\n\u001b[0;32m    176\u001b[0m     \u001b[1;32mtry\u001b[0m\u001b[1;33m:\u001b[0m\u001b[1;33m\u001b[0m\u001b[0m\n\u001b[1;32m--> 177\u001b[1;33m         \u001b[1;32mreturn\u001b[0m \u001b[0mtry_read\u001b[0m\u001b[1;33m(\u001b[0m\u001b[0mpath\u001b[0m\u001b[1;33m)\u001b[0m\u001b[1;33m\u001b[0m\u001b[0m\n\u001b[0m\u001b[0;32m    178\u001b[0m     \u001b[1;32mexcept\u001b[0m\u001b[1;33m:\u001b[0m\u001b[1;33m\u001b[0m\u001b[0m\n",
      "\u001b[1;32m~\\Anaconda3\\lib\\site-packages\\pandas\\io\\pickle.py\u001b[0m in \u001b[0;36mtry_read\u001b[1;34m(path, encoding)\u001b[0m\n\u001b[0;32m    174\u001b[0m                 return read_wrapper(\n\u001b[1;32m--> 175\u001b[1;33m                     lambda f: pc.load(f, encoding=encoding, compat=True))\n\u001b[0m\u001b[0;32m    176\u001b[0m     \u001b[1;32mtry\u001b[0m\u001b[1;33m:\u001b[0m\u001b[1;33m\u001b[0m\u001b[0m\n",
      "\u001b[1;32m~\\Anaconda3\\lib\\site-packages\\pandas\\io\\pickle.py\u001b[0m in \u001b[0;36mread_wrapper\u001b[1;34m(func)\u001b[0m\n\u001b[0;32m    148\u001b[0m         \u001b[1;32mtry\u001b[0m\u001b[1;33m:\u001b[0m\u001b[1;33m\u001b[0m\u001b[0m\n\u001b[1;32m--> 149\u001b[1;33m             \u001b[1;32mreturn\u001b[0m \u001b[0mfunc\u001b[0m\u001b[1;33m(\u001b[0m\u001b[0mf\u001b[0m\u001b[1;33m)\u001b[0m\u001b[1;33m\u001b[0m\u001b[0m\n\u001b[0m\u001b[0;32m    150\u001b[0m         \u001b[1;32mfinally\u001b[0m\u001b[1;33m:\u001b[0m\u001b[1;33m\u001b[0m\u001b[0m\n",
      "\u001b[1;32m~\\Anaconda3\\lib\\site-packages\\pandas\\io\\pickle.py\u001b[0m in \u001b[0;36m<lambda>\u001b[1;34m(f)\u001b[0m\n\u001b[0;32m    174\u001b[0m                 return read_wrapper(\n\u001b[1;32m--> 175\u001b[1;33m                     lambda f: pc.load(f, encoding=encoding, compat=True))\n\u001b[0m\u001b[0;32m    176\u001b[0m     \u001b[1;32mtry\u001b[0m\u001b[1;33m:\u001b[0m\u001b[1;33m\u001b[0m\u001b[0m\n",
      "\u001b[1;32m~\\Anaconda3\\lib\\site-packages\\pandas\\compat\\pickle_compat.py\u001b[0m in \u001b[0;36mload\u001b[1;34m(fh, encoding, compat, is_verbose)\u001b[0m\n\u001b[0;32m    211\u001b[0m \u001b[1;33m\u001b[0m\u001b[0m\n\u001b[1;32m--> 212\u001b[1;33m         \u001b[1;32mreturn\u001b[0m \u001b[0mup\u001b[0m\u001b[1;33m.\u001b[0m\u001b[0mload\u001b[0m\u001b[1;33m(\u001b[0m\u001b[1;33m)\u001b[0m\u001b[1;33m\u001b[0m\u001b[0m\n\u001b[0m\u001b[0;32m    213\u001b[0m     \u001b[1;32mexcept\u001b[0m\u001b[1;33m:\u001b[0m\u001b[1;33m\u001b[0m\u001b[0m\n",
      "\u001b[1;32m~\\Anaconda3\\lib\\pickle.py\u001b[0m in \u001b[0;36mload\u001b[1;34m(self)\u001b[0m\n\u001b[0;32m   1049\u001b[0m                 \u001b[1;32massert\u001b[0m \u001b[0misinstance\u001b[0m\u001b[1;33m(\u001b[0m\u001b[0mkey\u001b[0m\u001b[1;33m,\u001b[0m \u001b[0mbytes_types\u001b[0m\u001b[1;33m)\u001b[0m\u001b[1;33m\u001b[0m\u001b[0m\n\u001b[1;32m-> 1050\u001b[1;33m                 \u001b[0mdispatch\u001b[0m\u001b[1;33m[\u001b[0m\u001b[0mkey\u001b[0m\u001b[1;33m[\u001b[0m\u001b[1;36m0\u001b[0m\u001b[1;33m]\u001b[0m\u001b[1;33m]\u001b[0m\u001b[1;33m(\u001b[0m\u001b[0mself\u001b[0m\u001b[1;33m)\u001b[0m\u001b[1;33m\u001b[0m\u001b[0m\n\u001b[0m\u001b[0;32m   1051\u001b[0m         \u001b[1;32mexcept\u001b[0m \u001b[0m_Stop\u001b[0m \u001b[1;32mas\u001b[0m \u001b[0mstopinst\u001b[0m\u001b[1;33m:\u001b[0m\u001b[1;33m\u001b[0m\u001b[0m\n",
      "\u001b[1;31mKeyError\u001b[0m: 44",
      "\nDuring handling of the above exception, another exception occurred:\n",
      "\u001b[1;31mUnpicklingError\u001b[0m                           Traceback (most recent call last)",
      "\u001b[1;32m~\\Anaconda3\\lib\\site-packages\\pandas\\io\\pickle.py\u001b[0m in \u001b[0;36mtry_read\u001b[1;34m(path, encoding)\u001b[0m\n\u001b[0;32m    165\u001b[0m                 \u001b[1;31m# We want to silencce any warnings about, e.g. moved modules.\u001b[0m\u001b[1;33m\u001b[0m\u001b[1;33m\u001b[0m\u001b[0m\n\u001b[1;32m--> 166\u001b[1;33m                 \u001b[1;32mreturn\u001b[0m \u001b[0mread_wrapper\u001b[0m\u001b[1;33m(\u001b[0m\u001b[1;32mlambda\u001b[0m \u001b[0mf\u001b[0m\u001b[1;33m:\u001b[0m \u001b[0mpkl\u001b[0m\u001b[1;33m.\u001b[0m\u001b[0mload\u001b[0m\u001b[1;33m(\u001b[0m\u001b[0mf\u001b[0m\u001b[1;33m)\u001b[0m\u001b[1;33m)\u001b[0m\u001b[1;33m\u001b[0m\u001b[0m\n\u001b[0m\u001b[0;32m    167\u001b[0m         \u001b[1;32mexcept\u001b[0m \u001b[0mException\u001b[0m\u001b[1;33m:\u001b[0m\u001b[1;33m\u001b[0m\u001b[0m\n",
      "\u001b[1;32m~\\Anaconda3\\lib\\site-packages\\pandas\\io\\pickle.py\u001b[0m in \u001b[0;36mread_wrapper\u001b[1;34m(func)\u001b[0m\n\u001b[0;32m    148\u001b[0m         \u001b[1;32mtry\u001b[0m\u001b[1;33m:\u001b[0m\u001b[1;33m\u001b[0m\u001b[0m\n\u001b[1;32m--> 149\u001b[1;33m             \u001b[1;32mreturn\u001b[0m \u001b[0mfunc\u001b[0m\u001b[1;33m(\u001b[0m\u001b[0mf\u001b[0m\u001b[1;33m)\u001b[0m\u001b[1;33m\u001b[0m\u001b[0m\n\u001b[0m\u001b[0;32m    150\u001b[0m         \u001b[1;32mfinally\u001b[0m\u001b[1;33m:\u001b[0m\u001b[1;33m\u001b[0m\u001b[0m\n",
      "\u001b[1;32m~\\Anaconda3\\lib\\site-packages\\pandas\\io\\pickle.py\u001b[0m in \u001b[0;36m<lambda>\u001b[1;34m(f)\u001b[0m\n\u001b[0;32m    165\u001b[0m                 \u001b[1;31m# We want to silencce any warnings about, e.g. moved modules.\u001b[0m\u001b[1;33m\u001b[0m\u001b[1;33m\u001b[0m\u001b[0m\n\u001b[1;32m--> 166\u001b[1;33m                 \u001b[1;32mreturn\u001b[0m \u001b[0mread_wrapper\u001b[0m\u001b[1;33m(\u001b[0m\u001b[1;32mlambda\u001b[0m \u001b[0mf\u001b[0m\u001b[1;33m:\u001b[0m \u001b[0mpkl\u001b[0m\u001b[1;33m.\u001b[0m\u001b[0mload\u001b[0m\u001b[1;33m(\u001b[0m\u001b[0mf\u001b[0m\u001b[1;33m)\u001b[0m\u001b[1;33m)\u001b[0m\u001b[1;33m\u001b[0m\u001b[0m\n\u001b[0m\u001b[0;32m    167\u001b[0m         \u001b[1;32mexcept\u001b[0m \u001b[0mException\u001b[0m\u001b[1;33m:\u001b[0m\u001b[1;33m\u001b[0m\u001b[0m\n",
      "\u001b[1;31mUnpicklingError\u001b[0m: invalid load key, ','.",
      "\nDuring handling of the above exception, another exception occurred:\n",
      "\u001b[1;31mKeyError\u001b[0m                                  Traceback (most recent call last)",
      "\u001b[1;32m~\\Anaconda3\\lib\\site-packages\\pandas\\io\\pickle.py\u001b[0m in \u001b[0;36mtry_read\u001b[1;34m(path, encoding)\u001b[0m\n\u001b[0;32m    170\u001b[0m                 return read_wrapper(\n\u001b[1;32m--> 171\u001b[1;33m                     lambda f: pc.load(f, encoding=encoding, compat=False))\n\u001b[0m\u001b[0;32m    172\u001b[0m             \u001b[1;31m# compat pickle\u001b[0m\u001b[1;33m\u001b[0m\u001b[1;33m\u001b[0m\u001b[0m\n",
      "\u001b[1;32m~\\Anaconda3\\lib\\site-packages\\pandas\\io\\pickle.py\u001b[0m in \u001b[0;36mread_wrapper\u001b[1;34m(func)\u001b[0m\n\u001b[0;32m    148\u001b[0m         \u001b[1;32mtry\u001b[0m\u001b[1;33m:\u001b[0m\u001b[1;33m\u001b[0m\u001b[0m\n\u001b[1;32m--> 149\u001b[1;33m             \u001b[1;32mreturn\u001b[0m \u001b[0mfunc\u001b[0m\u001b[1;33m(\u001b[0m\u001b[0mf\u001b[0m\u001b[1;33m)\u001b[0m\u001b[1;33m\u001b[0m\u001b[0m\n\u001b[0m\u001b[0;32m    150\u001b[0m         \u001b[1;32mfinally\u001b[0m\u001b[1;33m:\u001b[0m\u001b[1;33m\u001b[0m\u001b[0m\n",
      "\u001b[1;32m~\\Anaconda3\\lib\\site-packages\\pandas\\io\\pickle.py\u001b[0m in \u001b[0;36m<lambda>\u001b[1;34m(f)\u001b[0m\n\u001b[0;32m    170\u001b[0m                 return read_wrapper(\n\u001b[1;32m--> 171\u001b[1;33m                     lambda f: pc.load(f, encoding=encoding, compat=False))\n\u001b[0m\u001b[0;32m    172\u001b[0m             \u001b[1;31m# compat pickle\u001b[0m\u001b[1;33m\u001b[0m\u001b[1;33m\u001b[0m\u001b[0m\n",
      "\u001b[1;32m~\\Anaconda3\\lib\\site-packages\\pandas\\compat\\pickle_compat.py\u001b[0m in \u001b[0;36mload\u001b[1;34m(fh, encoding, compat, is_verbose)\u001b[0m\n\u001b[0;32m    211\u001b[0m \u001b[1;33m\u001b[0m\u001b[0m\n\u001b[1;32m--> 212\u001b[1;33m         \u001b[1;32mreturn\u001b[0m \u001b[0mup\u001b[0m\u001b[1;33m.\u001b[0m\u001b[0mload\u001b[0m\u001b[1;33m(\u001b[0m\u001b[1;33m)\u001b[0m\u001b[1;33m\u001b[0m\u001b[0m\n\u001b[0m\u001b[0;32m    213\u001b[0m     \u001b[1;32mexcept\u001b[0m\u001b[1;33m:\u001b[0m\u001b[1;33m\u001b[0m\u001b[0m\n",
      "\u001b[1;32m~\\Anaconda3\\lib\\pickle.py\u001b[0m in \u001b[0;36mload\u001b[1;34m(self)\u001b[0m\n\u001b[0;32m   1049\u001b[0m                 \u001b[1;32massert\u001b[0m \u001b[0misinstance\u001b[0m\u001b[1;33m(\u001b[0m\u001b[0mkey\u001b[0m\u001b[1;33m,\u001b[0m \u001b[0mbytes_types\u001b[0m\u001b[1;33m)\u001b[0m\u001b[1;33m\u001b[0m\u001b[0m\n\u001b[1;32m-> 1050\u001b[1;33m                 \u001b[0mdispatch\u001b[0m\u001b[1;33m[\u001b[0m\u001b[0mkey\u001b[0m\u001b[1;33m[\u001b[0m\u001b[1;36m0\u001b[0m\u001b[1;33m]\u001b[0m\u001b[1;33m]\u001b[0m\u001b[1;33m(\u001b[0m\u001b[0mself\u001b[0m\u001b[1;33m)\u001b[0m\u001b[1;33m\u001b[0m\u001b[0m\n\u001b[0m\u001b[0;32m   1051\u001b[0m         \u001b[1;32mexcept\u001b[0m \u001b[0m_Stop\u001b[0m \u001b[1;32mas\u001b[0m \u001b[0mstopinst\u001b[0m\u001b[1;33m:\u001b[0m\u001b[1;33m\u001b[0m\u001b[0m\n",
      "\u001b[1;31mKeyError\u001b[0m: 44",
      "\nDuring handling of the above exception, another exception occurred:\n",
      "\u001b[1;31mKeyError\u001b[0m                                  Traceback (most recent call last)",
      "\u001b[1;32m<ipython-input-177-280a358a6b2c>\u001b[0m in \u001b[0;36m<module>\u001b[1;34m()\u001b[0m\n\u001b[0;32m      2\u001b[0m \u001b[1;32mfor\u001b[0m \u001b[0mfilename\u001b[0m \u001b[1;32min\u001b[0m \u001b[0mos\u001b[0m\u001b[1;33m.\u001b[0m\u001b[0mlistdir\u001b[0m\u001b[1;33m(\u001b[0m\u001b[1;34m'Dataset/reuters/'\u001b[0m\u001b[1;33m)\u001b[0m\u001b[1;33m:\u001b[0m\u001b[1;33m\u001b[0m\u001b[0m\n\u001b[0;32m      3\u001b[0m     \u001b[0mFilename\u001b[0m \u001b[1;33m=\u001b[0m \u001b[1;34m\"Dataset\\\\reuters\\\\\"\u001b[0m \u001b[1;33m+\u001b[0m \u001b[0mfilename\u001b[0m\u001b[1;33m\u001b[0m\u001b[0m\n\u001b[1;32m----> 4\u001b[1;33m     \u001b[0mdf\u001b[0m\u001b[1;33m=\u001b[0m\u001b[0mpd\u001b[0m\u001b[1;33m.\u001b[0m\u001b[0mread_pickle\u001b[0m\u001b[1;33m(\u001b[0m\u001b[0mFilename\u001b[0m\u001b[1;33m)\u001b[0m\u001b[1;33m\u001b[0m\u001b[0m\n\u001b[0m\u001b[0;32m      5\u001b[0m \u001b[1;33m\u001b[0m\u001b[0m\n\u001b[0;32m      6\u001b[0m \u001b[1;33m\u001b[0m\u001b[0m\n",
      "\u001b[1;32m~\\Anaconda3\\lib\\site-packages\\pandas\\io\\pickle.py\u001b[0m in \u001b[0;36mread_pickle\u001b[1;34m(path, compression)\u001b[0m\n\u001b[0;32m    178\u001b[0m     \u001b[1;32mexcept\u001b[0m\u001b[1;33m:\u001b[0m\u001b[1;33m\u001b[0m\u001b[0m\n\u001b[0;32m    179\u001b[0m         \u001b[1;32mif\u001b[0m \u001b[0mPY3\u001b[0m\u001b[1;33m:\u001b[0m\u001b[1;33m\u001b[0m\u001b[0m\n\u001b[1;32m--> 180\u001b[1;33m             \u001b[1;32mreturn\u001b[0m \u001b[0mtry_read\u001b[0m\u001b[1;33m(\u001b[0m\u001b[0mpath\u001b[0m\u001b[1;33m,\u001b[0m \u001b[0mencoding\u001b[0m\u001b[1;33m=\u001b[0m\u001b[1;34m'latin1'\u001b[0m\u001b[1;33m)\u001b[0m\u001b[1;33m\u001b[0m\u001b[0m\n\u001b[0m\u001b[0;32m    181\u001b[0m         \u001b[1;32mraise\u001b[0m\u001b[1;33m\u001b[0m\u001b[0m\n\u001b[0;32m    182\u001b[0m \u001b[1;33m\u001b[0m\u001b[0m\n",
      "\u001b[1;32m~\\Anaconda3\\lib\\site-packages\\pandas\\io\\pickle.py\u001b[0m in \u001b[0;36mtry_read\u001b[1;34m(path, encoding)\u001b[0m\n\u001b[0;32m    173\u001b[0m             \u001b[1;32mexcept\u001b[0m\u001b[1;33m:\u001b[0m\u001b[1;33m\u001b[0m\u001b[0m\n\u001b[0;32m    174\u001b[0m                 return read_wrapper(\n\u001b[1;32m--> 175\u001b[1;33m                     lambda f: pc.load(f, encoding=encoding, compat=True))\n\u001b[0m\u001b[0;32m    176\u001b[0m     \u001b[1;32mtry\u001b[0m\u001b[1;33m:\u001b[0m\u001b[1;33m\u001b[0m\u001b[0m\n\u001b[0;32m    177\u001b[0m         \u001b[1;32mreturn\u001b[0m \u001b[0mtry_read\u001b[0m\u001b[1;33m(\u001b[0m\u001b[0mpath\u001b[0m\u001b[1;33m)\u001b[0m\u001b[1;33m\u001b[0m\u001b[0m\n",
      "\u001b[1;32m~\\Anaconda3\\lib\\site-packages\\pandas\\io\\pickle.py\u001b[0m in \u001b[0;36mread_wrapper\u001b[1;34m(func)\u001b[0m\n\u001b[0;32m    147\u001b[0m                             is_text=False)\n\u001b[0;32m    148\u001b[0m         \u001b[1;32mtry\u001b[0m\u001b[1;33m:\u001b[0m\u001b[1;33m\u001b[0m\u001b[0m\n\u001b[1;32m--> 149\u001b[1;33m             \u001b[1;32mreturn\u001b[0m \u001b[0mfunc\u001b[0m\u001b[1;33m(\u001b[0m\u001b[0mf\u001b[0m\u001b[1;33m)\u001b[0m\u001b[1;33m\u001b[0m\u001b[0m\n\u001b[0m\u001b[0;32m    150\u001b[0m         \u001b[1;32mfinally\u001b[0m\u001b[1;33m:\u001b[0m\u001b[1;33m\u001b[0m\u001b[0m\n\u001b[0;32m    151\u001b[0m             \u001b[1;32mfor\u001b[0m \u001b[0m_f\u001b[0m \u001b[1;32min\u001b[0m \u001b[0mfh\u001b[0m\u001b[1;33m:\u001b[0m\u001b[1;33m\u001b[0m\u001b[0m\n",
      "\u001b[1;32m~\\Anaconda3\\lib\\site-packages\\pandas\\io\\pickle.py\u001b[0m in \u001b[0;36m<lambda>\u001b[1;34m(f)\u001b[0m\n\u001b[0;32m    173\u001b[0m             \u001b[1;32mexcept\u001b[0m\u001b[1;33m:\u001b[0m\u001b[1;33m\u001b[0m\u001b[0m\n\u001b[0;32m    174\u001b[0m                 return read_wrapper(\n\u001b[1;32m--> 175\u001b[1;33m                     lambda f: pc.load(f, encoding=encoding, compat=True))\n\u001b[0m\u001b[0;32m    176\u001b[0m     \u001b[1;32mtry\u001b[0m\u001b[1;33m:\u001b[0m\u001b[1;33m\u001b[0m\u001b[0m\n\u001b[0;32m    177\u001b[0m         \u001b[1;32mreturn\u001b[0m \u001b[0mtry_read\u001b[0m\u001b[1;33m(\u001b[0m\u001b[0mpath\u001b[0m\u001b[1;33m)\u001b[0m\u001b[1;33m\u001b[0m\u001b[0m\n",
      "\u001b[1;32m~\\Anaconda3\\lib\\site-packages\\pandas\\compat\\pickle_compat.py\u001b[0m in \u001b[0;36mload\u001b[1;34m(fh, encoding, compat, is_verbose)\u001b[0m\n\u001b[0;32m    210\u001b[0m         \u001b[0mup\u001b[0m\u001b[1;33m.\u001b[0m\u001b[0mis_verbose\u001b[0m \u001b[1;33m=\u001b[0m \u001b[0mis_verbose\u001b[0m\u001b[1;33m\u001b[0m\u001b[0m\n\u001b[0;32m    211\u001b[0m \u001b[1;33m\u001b[0m\u001b[0m\n\u001b[1;32m--> 212\u001b[1;33m         \u001b[1;32mreturn\u001b[0m \u001b[0mup\u001b[0m\u001b[1;33m.\u001b[0m\u001b[0mload\u001b[0m\u001b[1;33m(\u001b[0m\u001b[1;33m)\u001b[0m\u001b[1;33m\u001b[0m\u001b[0m\n\u001b[0m\u001b[0;32m    213\u001b[0m     \u001b[1;32mexcept\u001b[0m\u001b[1;33m:\u001b[0m\u001b[1;33m\u001b[0m\u001b[0m\n\u001b[0;32m    214\u001b[0m         \u001b[1;32mraise\u001b[0m\u001b[1;33m\u001b[0m\u001b[0m\n",
      "\u001b[1;32m~\\Anaconda3\\lib\\pickle.py\u001b[0m in \u001b[0;36mload\u001b[1;34m(self)\u001b[0m\n\u001b[0;32m   1048\u001b[0m                     \u001b[1;32mraise\u001b[0m \u001b[0mEOFError\u001b[0m\u001b[1;33m\u001b[0m\u001b[0m\n\u001b[0;32m   1049\u001b[0m                 \u001b[1;32massert\u001b[0m \u001b[0misinstance\u001b[0m\u001b[1;33m(\u001b[0m\u001b[0mkey\u001b[0m\u001b[1;33m,\u001b[0m \u001b[0mbytes_types\u001b[0m\u001b[1;33m)\u001b[0m\u001b[1;33m\u001b[0m\u001b[0m\n\u001b[1;32m-> 1050\u001b[1;33m                 \u001b[0mdispatch\u001b[0m\u001b[1;33m[\u001b[0m\u001b[0mkey\u001b[0m\u001b[1;33m[\u001b[0m\u001b[1;36m0\u001b[0m\u001b[1;33m]\u001b[0m\u001b[1;33m]\u001b[0m\u001b[1;33m(\u001b[0m\u001b[0mself\u001b[0m\u001b[1;33m)\u001b[0m\u001b[1;33m\u001b[0m\u001b[0m\n\u001b[0m\u001b[0;32m   1051\u001b[0m         \u001b[1;32mexcept\u001b[0m \u001b[0m_Stop\u001b[0m \u001b[1;32mas\u001b[0m \u001b[0mstopinst\u001b[0m\u001b[1;33m:\u001b[0m\u001b[1;33m\u001b[0m\u001b[0m\n\u001b[0;32m   1052\u001b[0m             \u001b[1;32mreturn\u001b[0m \u001b[0mstopinst\u001b[0m\u001b[1;33m.\u001b[0m\u001b[0mvalue\u001b[0m\u001b[1;33m\u001b[0m\u001b[0m\n",
      "\u001b[1;31mKeyError\u001b[0m: 44"
     ]
    }
   ],
   "source": [
    "import os\n",
    "for filename in os.listdir('Dataset/reuters/'):\n",
    "    #Filename = \"Dataset\\\\reuters\\\\\" + filename\n",
    "    df=pd.read_pickle(Filename)\n",
    "    \n",
    " "
   ]
  },
  {
   "cell_type": "code",
   "execution_count": null,
   "metadata": {},
   "outputs": [],
   "source": []
  }
 ],
 "metadata": {
  "kernelspec": {
   "display_name": "Python 3",
   "language": "python",
   "name": "python3"
  },
  "language_info": {
   "codemirror_mode": {
    "name": "ipython",
    "version": 3
   },
   "file_extension": ".py",
   "mimetype": "text/x-python",
   "name": "python",
   "nbconvert_exporter": "python",
   "pygments_lexer": "ipython3",
   "version": "3.6.5"
  }
 },
 "nbformat": 4,
 "nbformat_minor": 2
}
