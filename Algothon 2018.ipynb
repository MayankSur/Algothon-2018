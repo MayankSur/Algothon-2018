{
 "cells": [
  {
   "cell_type": "code",
   "execution_count": null,
   "metadata": {},
   "outputs": [],
   "source": [
    "#Algothon 2018"
   ]
  },
  {
   "cell_type": "code",
   "execution_count": 1,
   "metadata": {},
   "outputs": [],
   "source": [
    "import pandas as pd \n",
    "import matplotlib.pyplot as plt\n",
    "import numpy as np\n",
    "import pickle\n",
    "from datetime import *"
   ]
  },
  {
   "cell_type": "code",
   "execution_count": null,
   "metadata": {},
   "outputs": [],
   "source": [
    "def pre_processing(filename_in, filename_out):\n",
    "    for data in pd.read_csv(filename_in,chunksize=10000000):\n",
    "        data['time'] = pd.to_datetime(data.time)\n",
    "        data['date'] = data['time'].dt.date\n",
    "        data['hour'] = data['time'].dt.hour\n",
    "        data2 = data.groupby(['date','hour'])['bid','ask'].mean()\n",
    "    with open(filename_out, 'a') as f:\n",
    "             (data2).to_csv(f, header=False)"
   ]
  },
  {
   "cell_type": "code",
   "execution_count": null,
   "metadata": {},
   "outputs": [],
   "source": [
    "pre_processing(\"mystery_stock_ticker.csv\", \"final.csv\")"
   ]
  },
  {
   "cell_type": "code",
   "execution_count": null,
   "metadata": {},
   "outputs": [],
   "source": [
    "def processing_reuters(filepath, filename_out):\n",
    "    frame = pd.DataFrame()\n",
    "    \n",
    "    for filename in os.listdir(filepath):\n",
    "        Filename = filepath + filename\n",
    "        print(Filename)\n",
    "        df= pd.read_pickle(Filename)\n",
    "        times = []\n",
    "        date = []\n",
    "        time = []\n",
    "        titles = []\n",
    "        for t in df:\n",
    "            y = t.get('ts')\n",
    "            try:\n",
    "                y1 = y.replace('UTC','')\n",
    "            except:\n",
    "                pass\n",
    "            date1 = y1[0:8]\n",
    "            time1 = y1[9:-1]\n",
    "            m2 = time1\n",
    "            m2 = datetime.strptime(m2, '%I:%M%p')\n",
    "            m3 = str(m2)\n",
    "            m4=m3.split(\" \")\n",
    "            time.append (m4[1])\n",
    "            date.append (date1)\n",
    "            times.append (t.get('ts'))\n",
    "            titles.append (t.get(\"title\"))\n",
    "\n",
    "        dt=pd.DataFrame({\"date\" : date[0:-1], \"time\" : time[0:-1], \"title\" : titles[0:-1]})\n",
    "        frame = frame.append(dt)\n",
    "        frame.to_csv(filename_out)"
   ]
  },
  {
   "cell_type": "code",
   "execution_count": null,
   "metadata": {},
   "outputs": [],
   "source": [
    "processing_reuters(\"filepath\", \"processed.csv\")"
   ]
  },
  {
   "cell_type": "code",
   "execution_count": 4,
   "metadata": {},
   "outputs": [
    {
     "name": "stdout",
     "output_type": "stream",
     "text": [
      "   Unnamed: 0      date      time  \\\n",
      "0           0  20140101  23:59:00   \n",
      "1           1  20140101  23:59:00   \n",
      "2           2  20140101  23:51:00   \n",
      "3           3  20140101  23:44:00   \n",
      "4           4  20140101  23:42:00   \n",
      "\n",
      "                                               title  \n",
      "0  Macau gambling revenue rises 18.6 percent to $...  \n",
      "1  Wal-Mart recalls donkey product in China after...  \n",
      "2  ZTE and KDDI Offer Smart Multimedia Infotainme...  \n",
      "3  Indonesia's foreign tourist arrivals hit recor...  \n",
      "4  MYANMAR PRESS-India's Exim Bank to give $350 m...  \n",
      "   Unnamed: 0        date  hour       bid       ask\n",
      "0           0  2014-01-01    21  2.101175  2.104893\n",
      "1           1  2014-01-01    22  2.103076  2.104591\n",
      "2           2  2014-01-01    23  2.103075  2.104147\n",
      "3           3  2014-01-02     0  2.103690  2.104402\n",
      "4           4  2014-01-02     1  2.103013  2.103856\n"
     ]
    }
   ],
   "source": [
    "df_ticker = pd.read_csv(\"processed.csv\")\n",
    "df_reuters = pd.read_csv(\"final.csv\")\n",
    "df_ticker.head(5)\n",
    "df_reuters.head(5)"
   ]
  },
  {
   "cell_type": "code",
   "execution_count": null,
   "metadata": {},
   "outputs": [],
   "source": []
  }
 ],
 "metadata": {
  "kernelspec": {
   "display_name": "Python 3",
   "language": "python",
   "name": "python3"
  },
  "language_info": {
   "codemirror_mode": {
    "name": "ipython",
    "version": 3
   },
   "file_extension": ".py",
   "mimetype": "text/x-python",
   "name": "python",
   "nbconvert_exporter": "python",
   "pygments_lexer": "ipython3",
   "version": "3.6.5"
  }
 },
 "nbformat": 4,
 "nbformat_minor": 2
}
